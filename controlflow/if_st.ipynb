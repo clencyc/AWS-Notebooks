{
 "cells": [
  {
   "cell_type": "code",
   "execution_count": 11,
   "metadata": {},
   "outputs": [
    {
     "name": "stdout",
     "output_type": "stream",
     "text": [
      "10\n",
      "50\n",
      "Number 145 is odd.\n",
      "Somebody who is 35 years old will pay $2.5 to ride the bus.\n"
     ]
    }
   ],
   "source": [
    "#First Example - try changing the value of phone_balance\n",
    "phone_balance = 10\n",
    "bank_balance = 50\n",
    "\n",
    "if phone_balance < 10:\n",
    "    phone_balance += 10\n",
    "    bank_balance -= 10\n",
    "\n",
    "print(phone_balance)\n",
    "print(bank_balance)\n",
    "\n",
    "#Second Example - try changing the value of number\n",
    "\n",
    "number = 145\n",
    "if number % 2 == 0:\n",
    "    print(\"Number \" + str(number) + \" is even.\")\n",
    "else:\n",
    "    print(\"Number \" + str(number) + \" is odd.\")\n",
    "\n",
    "#Third Example - try to change the value of age\n",
    "age = 35\n",
    "\n",
    "# Here are the age limits for bus fares\n",
    "free_up_to_age = 4\n",
    "child_up_to_age = 18\n",
    "senior_from_age = 65\n",
    "\n",
    "# These lines determine the bus fare prices\n",
    "concession_ticket = 1.25\n",
    "adult_ticket = 2.50\n",
    "\n",
    "# Here is the logic for bus fare prices\n",
    "if age <= free_up_to_age:\n",
    "    ticket_price = 0\n",
    "elif age <= child_up_to_age:\n",
    "    ticket_price = concession_ticket\n",
    "elif age >= senior_from_age:\n",
    "    ticket_price = concession_ticket\n",
    "else:\n",
    "    ticket_price = adult_ticket\n",
    "\n",
    "message = \"Somebody who is {} years old will pay ${} to ride the bus.\".format(age, ticket_price)\n",
    "print(message)"
   ]
  },
  {
   "cell_type": "markdown",
   "metadata": {},
   "source": [
    "## Evaluating model perfomance\n",
    "1. 0.0 - 0.5: Poor performance\n",
    "2. 0.51 - 0.75: Average performance\n",
    "3. 0.76 - 0.90: Good performance\n",
    "4. 0.91 - 1.0: Excellent performance"
   ]
  },
  {
   "cell_type": "code",
   "execution_count": 12,
   "metadata": {},
   "outputs": [
    {
     "name": "stdout",
     "output_type": "stream",
     "text": [
      "Model performance: Good.\n",
      "Nice work!\n"
     ]
    }
   ],
   "source": [
    "# Assign your accuracy score here\n",
    "accuracy = 0.85\n",
    "\n",
    "# Write your if statement here\n",
    "if 0.0 <= accuracy <= 0.5:\n",
    "    result = \"Model performance: Poor.\"\n",
    "elif 0.51 <= accuracy <= 0.75:\n",
    "    result = \"Model performance: Average.\"\n",
    "elif 0.76 <= accuracy <= 0.90:\n",
    "    result = \"Model performance: Good.\"\n",
    "elif 0.91 <= accuracy <= 1.0:\n",
    "    result = \"Model performance: Excellent.\"\n",
    "else:\n",
    "    result = \"Invalid accuracy score.\"\n",
    "\n",
    "# Check the result\n",
    "print(result)\n",
    "\n",
    "# Notebook grading\n",
    "if result == \"Model performance: Good.\":\n",
    "    print(\"Nice work!\")\n",
    "else:\n",
    "    print(\"Not quite! Are your result strings formatted correctly?\")"
   ]
  },
  {
   "cell_type": "code",
   "execution_count": 13,
   "metadata": {},
   "outputs": [
    {
     "name": "stdout",
     "output_type": "stream",
     "text": [
      "Good job!\n"
     ]
    }
   ],
   "source": [
    "# Actual and predicted accuracies\n",
    "actual_accuracy = 0.85  # replace with actual accuracy\n",
    "predicted_accuracy = 0.80  # replace with predicted accuracy\n",
    "\n",
    "# Compare predicted accuracy to actual accuracy\n",
    "# TODO\n",
    "\n",
    "\n",
    "# Compare predicted accuracy to actual accuracy\n",
    "if predicted_accuracy < actual_accuracy:\n",
    "    result = \"Oops! Your prediction was too low.\"\n",
    "elif predicted_accuracy > actual_accuracy:\n",
    "    result = \"Oops! Your prediction was too high.\"\n",
    "else:\n",
    "    result = \"Nice! Your prediction matched the actual accuracy!\"\n",
    "\n",
    "\n",
    "### Notebook grading\n",
    "def get_solution(actual_accuracy, predicted_accuracy):\n",
    "    if predicted_accuracy < actual_accuracy:\n",
    "        return \"Oops! Your prediction was too low.\"\n",
    "    elif predicted_accuracy > actual_accuracy:\n",
    "        return \"Oops! Your prediction was too high.\"\n",
    "    else:\n",
    "        return \"Nice! Your prediction matched the actual accuracy!\"\n",
    "\n",
    "if result == get_solution(actual_accuracy, predicted_accuracy):\n",
    "    print(\"Good job!\")\n",
    "else:\n",
    "    print(\"Try again. That doesn't look like the expected answer.\")"
   ]
  },
  {
   "cell_type": "markdown",
   "metadata": {},
   "source": [
    "# Exercise: Compute Resource Cost Calculation\n",
    "\n",
    "In this exercise, you'll calculate the total cost of running a machine learning model training session based on the cloud provider used. Different providers have different cost rates.\n",
    "\n",
    "Problem Statement\n",
    "Depending on the cloud provider, you need to apply the appropriate cost rate to the computation cost. The providers and their rates are as follows: AWS (7.5%), Azure (9.5%), and GCP (8.9%). Use this information to calculate the total cost of running the training session based on the provider and the initial computation cost.\n",
    "\n",
    "Example Input:\n",
    "\n",
    "provider = \"AWS\"  # Either \"AWS\", \"Azure\", or \"GCP\"\n",
    "computation_cost = 1000  # amount of computation cost\n",
    "Instructions:\n",
    "\n",
    "Use the provider to determine the cost rate.\n",
    "Calculate the total cost based on the computation cost and the cost rate.\n",
    "Inform the user of the total cost based on their provider."
   ]
  },
  {
   "cell_type": "code",
   "execution_count": 15,
   "metadata": {},
   "outputs": [
    {
     "name": "stdout",
     "output_type": "stream",
     "text": [
      "Since you are using AWS, your total cost is $1075.00.\n",
      "Good job!\n"
     ]
    }
   ],
   "source": [
    "provider = \"AWS\"  # Either \"AWS\", \"Azure\", or \"GCP\"\n",
    "computation_cost = 1000  # amount of computation cost\n",
    "\n",
    "# TODO\n",
    "\n",
    "if provider == 'AWS':\n",
    "    cost_rate = .075\n",
    "    total_cost = computation_cost * (1 + cost_rate)\n",
    "    result = \"Since you are using {}, your total cost is ${:.2f}.\".format(provider, total_cost)\n",
    "print(result)\n",
    "\n",
    "def get_solution(provider, computation_cost):\n",
    "    if provider == 'AWS':\n",
    "        cost_rate = .075\n",
    "        total_cost = computation_cost * (1 + cost_rate)\n",
    "        result = \"Since you are using {}, your total cost is ${:.2f}.\".format(provider, total_cost)\n",
    "    elif provider == 'Azure':\n",
    "        cost_rate = .095\n",
    "        total_cost = computation_cost * (1 + cost_rate)\n",
    "        result = \"Since you are using {}, your total cost is ${:.2f}.\".format(provider, total_cost)\n",
    "    elif provider == 'GCP':\n",
    "        cost_rate = .089\n",
    "        total_cost = computation_cost * (1 + cost_rate)\n",
    "        result = \"Since you are using {}, your total cost is ${:.2f}.\".format(provider, total_cost)\n",
    "    else:\n",
    "        result = \"Provider not recognized.\"\n",
    "    return result\n",
    "\n",
    "if result == get_solution(provider, computation_cost):\n",
    "    print(\"Good job!\")\n",
    "else:\n",
    "    print(\"Oops! That doesn't look like the expected answer.\")"
   ]
  },
  {
   "cell_type": "code",
   "execution_count": null,
   "metadata": {},
   "outputs": [],
   "source": [
    "if 18.5 <= weight / height**2 < 25:\n",
    "    print(\"BMI is considered 'normal'\")\n",
    "\n",
    "if is_raining and is_sunny:\n",
    "    print(\"Is there a rainbow?\")\n",
    "\n",
    "if (not unsubscribed) and (location == \"USA\" or location == \"CAN\"):\n",
    "    print(\"send email\")\n",
    "\n"
   ]
  },
  {
   "cell_type": "code",
   "execution_count": null,
   "metadata": {},
   "outputs": [],
   "source": [
    "## Another bad example\n",
    "if is_cold or not is_cold:\n",
    "    print(\"This indented code will always get run.\")"
   ]
  },
  {
   "cell_type": "code",
   "execution_count": 19,
   "metadata": {},
   "outputs": [
    {
     "data": {
      "text/plain": [
       "True"
      ]
     },
     "execution_count": 19,
     "metadata": {},
     "output_type": "execute_result"
    }
   ],
   "source": [
    "altitude = 10000\n",
    "speed = 250\n",
    "propulsion = \"Propeller\"\n",
    "# (propulsion == \"Jet\" or propulsion == \"Turboprop\") and speed < 300 and altitude > 20000\n",
    "# altitude < 1000 and speed > 100\n",
    "# not (speed > 400 and propulsion == \"Propeller\")\n",
    "(altitude > 500 and speed > 100) or not propulsion == \"Propeller\""
   ]
  }
 ],
 "metadata": {
  "kernelspec": {
   "display_name": "venv",
   "language": "python",
   "name": "python3"
  },
  "language_info": {
   "codemirror_mode": {
    "name": "ipython",
    "version": 3
   },
   "file_extension": ".py",
   "mimetype": "text/x-python",
   "name": "python",
   "nbconvert_exporter": "python",
   "pygments_lexer": "ipython3",
   "version": "3.12.7"
  }
 },
 "nbformat": 4,
 "nbformat_minor": 2
}
