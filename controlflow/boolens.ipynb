{
 "cells": [
  {
   "cell_type": "markdown",
   "metadata": {},
   "source": [
    "## Exercise: Performance Level Based on Model Accuracy\n",
    "The code below is the solution to the Evaluating Model Performance quiz you've seen previously. You're going to rewrite this based on what you've learned about truth values.\n",
    "\n",
    "In this exercise, you'll assign performance levels to models based on their accuracy and use the truth value of the performance level to determine the evaluation message.\n",
    "\n",
    "Problem Statement\n",
    "Given an accuracy value, assign a performance level based on the following criteria:\n",
    "\n",
    "0% - 50%: Poor performance\n",
    "51% - 75%: Average performance\n",
    "76% - 90%: Good performance\n",
    "91% - 100%: Excellent performance\n",
    "Assign the corresponding result message based on the performance level.\n",
    "\n",
    "Example Input:\n",
    "\n",
    "accuracy = 0.88  # use this as input for your submission\n",
    "Instructions:\n",
    "\n",
    "Establish the default performance level to None.\n",
    "Use the accuracy value to assign performance levels to the correct performance names.\n",
    "Use the truth value of performance level to assign result to the correct message."
   ]
  },
  {
   "cell_type": "code",
   "execution_count": 4,
   "metadata": {},
   "outputs": [
    {
     "name": "stdout",
     "output_type": "stream",
     "text": [
      "Good work!\n"
     ]
    }
   ],
   "source": [
    "accuracy = 0.88  # use this as input for your submission\n",
    "\n",
    "# Establish the default performance level to None\n",
    "performance = None\n",
    "\n",
    "# Use the accuracy value to assign performance levels to the correct performance names\n",
    "if 0.00 <= accuracy <= 0.50:\n",
    "    performance = \"Poor performance\"\n",
    "elif 0.51 <= accuracy <= 0.75:\n",
    "    performance = \"Average performance\"\n",
    "elif 0.76 <= accuracy <= 0.90:\n",
    "    performance = \"Good performance\"\n",
    "elif 0.91 <= accuracy <= 1.00:\n",
    "    performance = \"Excellent performance\"\n",
    "else:\n",
    "    performance = \"Invalid performance\"\n",
    "\n",
    "# Use the truth value of performance to assign result to the correct phrase\n",
    "if performance:\n",
    "    result = \"The model has achieved {}.\".format(performance)\n",
    "else:\n",
    "    result = \"Performance level not defined.\"\n",
    "\n",
    "### Notebook grading\n",
    "if result == \"The model has achieved Good performance.\":\n",
    "    print(\"Good work!\")\n",
    "else:\n",
    "    print(\"Not quite! Are your result string formatted correctly?\")"
   ]
  },
  {
   "cell_type": "code",
   "execution_count": 11,
   "metadata": {},
   "outputs": [
    {
     "name": "stdout",
     "output_type": "stream",
     "text": [
      "Nairobi\n",
      "Arusha\n",
      "Newyork\n",
      "Kampala\n",
      "Kigali\n",
      "Mombasa\n",
      "Dar Es Salaam\n",
      "Dodoma\n",
      "Kisumu\n",
      "Lagos\n",
      "['Nairobi', 'Arusha', 'Newyork', 'Kampala', 'Kigali', 'Mombasa', 'Dar es Salaam', 'Dodoma', 'Kisumu', 'Lagos']\n",
      "['Nairobi', 'Arusha', 'Newyork', 'Kampala', 'Kigali', 'Mombasa', 'Dar es Salaam', 'Dodoma', 'Kisumu', 'Lagos']\n",
      "['Nairobi', 'Arusha', 'Newyork', 'Kampala', 'Kigali', 'Mombasa', 'Dar es Salaam', 'Dodoma', 'Kisumu', 'Lagos']\n",
      "['Nairobi', 'Arusha', 'Newyork', 'Kampala', 'Kigali', 'Mombasa', 'Dar es Salaam', 'Dodoma', 'Kisumu', 'Lagos']\n",
      "['Nairobi', 'Arusha', 'Newyork', 'Kampala', 'Kigali', 'Mombasa', 'Dar es Salaam', 'Dodoma', 'Kisumu', 'Lagos']\n",
      "['Nairobi', 'Arusha', 'Newyork', 'Kampala', 'Kigali', 'Mombasa', 'Dar es Salaam', 'Dodoma', 'Kisumu', 'Lagos']\n",
      "['Nairobi', 'Arusha', 'Newyork', 'Kampala', 'Kigali', 'Mombasa', 'Dar Es Salaam', 'Dodoma', 'Kisumu', 'Lagos']\n",
      "['Nairobi', 'Arusha', 'Newyork', 'Kampala', 'Kigali', 'Mombasa', 'Dar Es Salaam', 'Dodoma', 'Kisumu', 'Lagos']\n",
      "['Nairobi', 'Arusha', 'Newyork', 'Kampala', 'Kigali', 'Mombasa', 'Dar Es Salaam', 'Dodoma', 'Kisumu', 'Lagos']\n",
      "['Nairobi', 'Arusha', 'Newyork', 'Kampala', 'Kigali', 'Mombasa', 'Dar Es Salaam', 'Dodoma', 'Kisumu', 'Lagos']\n",
      "[1, 3, 5, 7, 9]\n"
     ]
    }
   ],
   "source": [
    "cities = ['Nairobi', 'Arusha', 'Newyork', 'Kampala', 'Kigali', 'Mombasa', 'Dar es Salaam', 'Dodoma', 'Kisumu', 'Lagos']\n",
    "\n",
    "for i in cities:\n",
    "    print(i.title())\n",
    "\n",
    "for index in range(len(cities)):\n",
    "    cities[index] = cities[index].title()\n",
    "    print(cities)\n",
    "    # print(cities[index].title())\n",
    "print(list(range(1, 10, 2)))"
   ]
  },
  {
   "cell_type": "code",
   "execution_count": null,
   "metadata": {},
   "outputs": [],
   "source": [
    "names = [\"Joey Tribbiani\", \"Monica Geller\", \"Chandler Bing\", \"Phoebe Buffay\"]\n",
    "\n",
    "for name in names:\n",
    "    name = name.lower().replace(\" \", \"_\")\n",
    "\n",
    "print(names)"
   ]
  }
 ],
 "metadata": {
  "kernelspec": {
   "display_name": "venv",
   "language": "python",
   "name": "python3"
  },
  "language_info": {
   "codemirror_mode": {
    "name": "ipython",
    "version": 3
   },
   "file_extension": ".py",
   "mimetype": "text/x-python",
   "name": "python",
   "nbconvert_exporter": "python",
   "pygments_lexer": "ipython3",
   "version": "3.12.7"
  }
 },
 "nbformat": 4,
 "nbformat_minor": 2
}
