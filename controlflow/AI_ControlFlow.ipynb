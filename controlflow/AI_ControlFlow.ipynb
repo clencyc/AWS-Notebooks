{
 "cells": [
  {
   "cell_type": "code",
   "execution_count": 4,
   "metadata": {},
   "outputs": [
    {
     "name": "stdout",
     "output_type": "stream",
     "text": [
      "the\n",
      "quick\n",
      "brown\n",
      "fox\n",
      "jumped\n",
      "over\n",
      "the\n",
      "lazy\n",
      "dog\n"
     ]
    }
   ],
   "source": [
    "# Define the sentence\n",
    "sentence = \"the quick brown fox jumped over the lazy dog\"\n",
    "\n",
    "# Tokenize the sentence into words\n",
    "words = sentence.split()\n",
    "\n",
    "# Print each word on a new line\n",
    "# TODO\n",
    "for word in words:\n",
    "    print(word)"
   ]
  },
  {
   "cell_type": "code",
   "execution_count": 5,
   "metadata": {},
   "outputs": [
    {
     "name": "stdout",
     "output_type": "stream",
     "text": [
      "[1, 2, 3, 4, 5]\n",
      "[6, 7, 8, 9, 10]\n",
      "[11, 12, 13, 14, 15]\n",
      "[16, 17, 18, 19, 20]\n",
      "[21, 22, 23, 24, 25]\n",
      "[26, 27, 28, 29, 30]\n"
     ]
    }
   ],
   "source": [
    "# Define the dataset\n",
    "data = list(range(1, 31))\n",
    "\n",
    "# Define the batch size\n",
    "batch_size = 5\n",
    "\n",
    "# Process the data in batches\n",
    "# TODO\n",
    "for i in range(0, len(data), batch_size):\n",
    "    print(data[i:i+batch_size])"
   ]
  },
  {
   "cell_type": "markdown",
   "metadata": {},
   "source": [
    "## Exercise 1: Create Model Identifiers"
   ]
  },
  {
   "cell_type": "code",
   "execution_count": 10,
   "metadata": {},
   "outputs": [
    {
     "name": "stdout",
     "output_type": "stream",
     "text": [
      "['logistic_regression', 'decision_tree', 'random_forest', 'support_vector_machine']\n",
      "Nice work!\n"
     ]
    }
   ],
   "source": [
    "model_names = [\"Logistic Regression\", \"Decision Tree\", \"Random Forest\", \"Support Vector Machine\"]\n",
    "model_identifiers = []\n",
    "\n",
    "for model_name in model_names:\n",
    "    model_identifier = model_name.lower().replace(\" \", \"_\")\n",
    "    model_identifiers.append(model_identifier)\n",
    "\n",
    "print(model_identifiers)\n",
    "\n",
    "\n",
    "### Notebook grading\n",
    "if model_identifiers == [\"logistic_regression\", \"decision_tree\", \"random_forest\", \"support_vector_machine\"]:\n",
    "    print(\"Nice work!\")\n",
    "else:\n",
    "    print(\"Not quite! Did you append each new identifier to the list `model_identifiers`?\")"
   ]
  },
  {
   "cell_type": "code",
   "execution_count": 11,
   "metadata": {},
   "outputs": [
    {
     "name": "stdout",
     "output_type": "stream",
     "text": [
      "['logistic_regression', 'decision_tree', 'random_forest', 'support_vector_machine']\n",
      "Nice work!\n"
     ]
    }
   ],
   "source": [
    "model_identifiers = [\"Logistic Regression\", \"Decision Tree\", \"Random Forest\", \"Support Vector Machine\"]\n",
    "\n",
    "# Write your for loop here\n",
    "# TODO\n",
    "\n",
    "for i in range(len(model_identifiers)):\n",
    "    model_identifiers[i] = model_identifiers[i].lower().replace(\" \", \"_\")\n",
    "\n",
    "print(model_identifiers)\n",
    "\n",
    "### Notebook grading\n",
    "if model_identifiers == [\"logistic_regression\", \"decision_tree\", \"random_forest\", \"support_vector_machine\"]:\n",
    "    print(\"Nice work!\")\n",
    "else:\n",
    "    print(\"Not quite! Did you modify each element in the list `model_identifiers`?\")"
   ]
  },
  {
   "cell_type": "code",
   "execution_count": 12,
   "metadata": {},
   "outputs": [
    {
     "name": "stdout",
     "output_type": "stream",
     "text": [
      "2\n",
      "Nice work!\n"
     ]
    }
   ],
   "source": [
    "predictions = ['Predicted: 0.95', 'Actual: 0.90', 'Predicted: 0.85']\n",
    "count = 0\n",
    "\n",
    "# Write your for loop here\n",
    "# TODO\n",
    "\n",
    "for prediction in predictions:\n",
    "    if prediction.startswith(\"Predicted\"):\n",
    "        count += 1\n",
    "\n",
    "print(count)\n",
    "\n",
    "### Notebook grading\n",
    "if count == 2:\n",
    "    print(\"Nice work!\")\n",
    "else:\n",
    "    print(\"Not quite! Did you track the number of predictions with `count`?\")"
   ]
  },
  {
   "cell_type": "code",
   "execution_count": 15,
   "metadata": {},
   "outputs": [
    {
     "name": "stdout",
     "output_type": "stream",
     "text": [
      "<ul>\n",
      " </ul>\t<li>Accuracy: 0.95</li>\n",
      "\t<li>Precision: 0.92</li>\n",
      "\t<li>Recall: 0.88</li>\n",
      "\n"
     ]
    }
   ],
   "source": [
    "metrics = ['Accuracy: 0.95', 'Precision: 0.92', 'Recall: 0.88']\n",
    "html_str = \"<ul>\\n\"\n",
    "\n",
    "# Write your code here\n",
    "# TODO\n",
    "\n",
    "for metric in metrics:\n",
    "    html_str += f\"\\t<li>{metric}</li>\\n\"\n",
    "\n",
    "# Print the resulting HTML string\n",
    "print(html_str)"
   ]
  },
  {
   "cell_type": "code",
   "execution_count": 17,
   "metadata": {},
   "outputs": [
    {
     "name": "stdout",
     "output_type": "stream",
     "text": [
      "{'great': 2, 'expectations': 1, 'the': 2, 'adventures': 2, 'of': 2, 'sherlock': 1, 'holmes': 1, 'gasby': 1, 'hamlet': 1, 'huckleberry': 1, 'fin': 1}\n"
     ]
    }
   ],
   "source": [
    "book_title =  ['great', 'expectations','the', 'adventures', 'of', 'sherlock','holmes','the','great','gasby','hamlet','adventures','of','huckleberry','fin']\n",
    "\n",
    "word_counter = {}\n",
    "\n",
    "for word in book_title:\n",
    "    if word not in word_counter:\n",
    "        word_counter[word] = 1\n",
    "    else:\n",
    "        word_counter[word] += 1\n",
    "\n",
    "print(word_counter)"
   ]
  },
  {
   "cell_type": "code",
   "execution_count": 20,
   "metadata": {},
   "outputs": [
    {
     "name": "stdout",
     "output_type": "stream",
     "text": [
      "Jerry Seinfeld\n",
      "Julia Louis-Dreyfus\n",
      "Jason Alexander\n",
      "Michael Richards\n"
     ]
    }
   ],
   "source": [
    "cast = {\n",
    "           \"Jerry Seinfeld\": \"Jerry Seinfeld\",\n",
    "           \"Julia Louis-Dreyfus\": \"Elaine Benes\",\n",
    "           \"Jason Alexander\": \"George Costanza\",\n",
    "           \"Michael Richards\": \"Cosmo Kramer\"\n",
    "       }\n",
    "\n",
    "for key in cast:\n",
    "    print(key)\n"
   ]
  },
  {
   "cell_type": "code",
   "execution_count": 21,
   "metadata": {},
   "outputs": [
    {
     "name": "stdout",
     "output_type": "stream",
     "text": [
      "Actor: Jerry Seinfeld    Role: Jerry Seinfeld\n",
      "Actor: Julia Louis-Dreyfus    Role: Elaine Benes\n",
      "Actor: Jason Alexander    Role: George Costanza\n",
      "Actor: Michael Richards    Role: Cosmo Kramer\n"
     ]
    }
   ],
   "source": [
    "for key, value in cast.items():\n",
    "    print(\"Actor: {}    Role: {}\".format(key, value))"
   ]
  },
  {
   "cell_type": "code",
   "execution_count": 22,
   "metadata": {},
   "outputs": [
    {
     "name": "stdout",
     "output_type": "stream",
     "text": [
      "Try again. That doesn't look like what expected.\n"
     ]
    }
   ],
   "source": [
    "result = 0\n",
    "dataset_items = {'logistic_regression': 4, 'decision_tree': 19, 'random_forest': 3, 'datasets': 8}\n",
    "model_types = ['logistic_regression', 'decision_tree', 'random_forest', 'support_vector_machine']\n",
    "\n",
    "# Iterate through the dictionary\n",
    "# TODO\n",
    "\n",
    "for model, count in dataset_items.items():\n",
    "    if model in model_types:\n",
    "        result += count\n",
    "\n",
    "\n",
    "### Notebook grading\n",
    "def get_solution(dataset_items, model_types):\n",
    "    result = 0\n",
    "    for model, count in dataset_items.items():\n",
    "        if model in model_types:\n",
    "            result += count\n",
    "    return result\n",
    "\n",
    "correct_answer = get_solution(dataset_items, model_types)\n",
    "if result == correct_answer:\n",
    "    print(\"Nice work!\")\n",
    "else:\n",
    "    print(\"Try again. That doesn't look like what expected.\")"
   ]
  },
  {
   "cell_type": "code",
   "execution_count": 1,
   "metadata": {},
   "outputs": [],
   "source": [
    "card_deck = [4, 11, 8, 5, 13, 2, 8, 10]\n",
    "hand = []\n",
    "\n",
    "while sum(hand) <= 17:\n",
    "    hand.append(card_deck.pop())\n",
    "\n",
    "print(hand)"
   ]
  }
 ],
 "metadata": {
  "kernelspec": {
   "display_name": "venv",
   "language": "python",
   "name": "python3"
  },
  "language_info": {
   "codemirror_mode": {
    "name": "ipython",
    "version": 3
   },
   "file_extension": ".py",
   "mimetype": "text/x-python",
   "name": "python",
   "nbconvert_exporter": "python",
   "pygments_lexer": "ipython3",
   "version": "3.12.7"
  }
 },
 "nbformat": 4,
 "nbformat_minor": 2
}
