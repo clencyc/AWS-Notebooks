{
 "cells": [
  {
   "cell_type": "code",
   "execution_count": 2,
   "metadata": {},
   "outputs": [
    {
     "name": "stdout",
     "output_type": "stream",
     "text": [
      "0.05904900000000002\n",
      "Nice work!\n"
     ]
    }
   ],
   "source": [
    "# Initial learning rate\n",
    "initial_lr = 0.1\n",
    "# Decay factor\n",
    "decay_factor = 0.9\n",
    "# Number of epochs\n",
    "epochs = 5\n",
    "\n",
    "# Initialize current learning rate\n",
    "current_lr = initial_lr\n",
    "# Initialize current epoch\n",
    "current_epoch = 0\n",
    "\n",
    "# While loop to apply learning rate decay\n",
    "# TODO\n",
    "\n",
    "while current_epoch < epochs:\n",
    "    current_lr *= decay_factor\n",
    "    current_epoch += 1\n",
    "\n",
    "print(current_lr)\n",
    "\n",
    "# Notebook grading\n",
    "if abs(current_lr - 0.059049) < 1e-6:\n",
    "    print(\"Nice work!\")\n",
    "else:\n",
    "    print(\"Not quite. Check your learning rate calculations.\")"
   ]
  },
  {
   "cell_type": "code",
   "execution_count": 3,
   "metadata": {},
   "outputs": [
    {
     "name": "stdout",
     "output_type": "stream",
     "text": [
      "[0.499, 1.502, -0.5005]\n",
      "Nice work!\n"
     ]
    }
   ],
   "source": [
    "# Model parameters\n",
    "parameters = [0.5, 1.5, -0.5]\n",
    "# Corresponding gradients\n",
    "gradients = [0.1, -0.2, 0.05]\n",
    "# Learning rate\n",
    "learning_rate = 0.01\n",
    "\n",
    "# For loop to update each parameter\n",
    "# TODO\n",
    "for i in range(len(parameters)):\n",
    "    parameters[i] -= learning_rate * gradients[i]\n",
    "\n",
    "print(parameters)\n",
    "# Notebook grading\n",
    "if parameters == [0.499, 1.502, -0.5005]:\n",
    "    print(\"Nice work!\")\n",
    "else:\n",
    "    print(\"Not quite. Check your parameter updates.\")"
   ]
  },
  {
   "cell_type": "code",
   "execution_count": 4,
   "metadata": {},
   "outputs": [
    {
     "name": "stdout",
     "output_type": "stream",
     "text": [
      "100\n",
      "Good job!\n"
     ]
    }
   ],
   "source": [
    "total_images = 100\n",
    "batch_size = 20\n",
    "\n",
    "processed_images = 0\n",
    "# TODO\n",
    "\n",
    "while processed_images < total_images:\n",
    "    processed_images += batch_size\n",
    "\n",
    "print(processed_images)\n",
    "\n",
    "### Notebook grading\n",
    "def get_solution(total_images, batch_size):\n",
    "    processed_images = 0\n",
    "    while processed_images < total_images:\n",
    "        processed_images += batch_size\n",
    "    return processed_images\n",
    "\n",
    "correct = get_solution(total_images, batch_size)\n",
    "\n",
    "if processed_images == correct:\n",
    "    print(\"Good job!\")\n",
    "else:\n",
    "    print(\"Oops! It doesn't look like the expected answer.\")\n"
   ]
  },
  {
   "cell_type": "code",
   "execution_count": 6,
   "metadata": {},
   "outputs": [
    {
     "name": "stdout",
     "output_type": "stream",
     "text": [
      "100\n",
      "Good job!\n"
     ]
    }
   ],
   "source": [
    "total_images = 100\n",
    "batch_size = 20\n",
    "\n",
    "if total_images < batch_size:\n",
    "    result = total_images\n",
    "else:\n",
    "    processed_images = 0\n",
    "    # TODO\n",
    "    while processed_images < total_images:\n",
    "        processed_images += batch_size\n",
    "    result = processed_images\n",
    "\n",
    "print(result)\n",
    "\n",
    "\n",
    "### Notebook grading\n",
    "def get_solution(total_images, batch_size):\n",
    "    if total_images < batch_size:\n",
    "        return total_images\n",
    "    else:\n",
    "        processed_images = 0\n",
    "        while processed_images < total_images:\n",
    "            processed_images += batch_size\n",
    "        return processed_images\n",
    "\n",
    "correct_ans = get_solution(total_images, batch_size)\n",
    "\n",
    "if result == correct_ans:\n",
    "    print(\"Good job!\")\n",
    "else:\n",
    "    print(\"Oops! It doesn't look like the expected answer.\")"
   ]
  },
  {
   "cell_type": "code",
   "execution_count": 7,
   "metadata": {},
   "outputs": [
    {
     "name": "stdout",
     "output_type": "stream",
     "text": [
      "49\n",
      "Good job!\n"
     ]
    }
   ],
   "source": [
    "limit = 50\n",
    "nearest_batch = 0\n",
    "current_value = 0\n",
    "\n",
    "# TODO\n",
    "\n",
    "while (current_value + 1)**2 < limit:\n",
    "    current_value += 1\n",
    "    nearest_batch = current_value**2\n",
    "\n",
    "print(nearest_batch)\n",
    "\n",
    "### Notebook grading\n",
    "def get_solution(limit):\n",
    "    current_value = 0\n",
    "    while (current_value + 1)**2 < limit:\n",
    "        current_value += 1\n",
    "        nearest_batch = current_value**2\n",
    "    return nearest_batch\n",
    "\n",
    "correct_ans = get_solution(limit)\n",
    "\n",
    "if nearest_batch == correct_ans:\n",
    "    print(\"Good job!\")\n",
    "else:\n",
    "    print(\"Not quite. Did you assign your result to `nearest_batch`?\")\n"
   ]
  },
  {
   "cell_type": "code",
   "execution_count": null,
   "metadata": {},
   "outputs": [],
   "source": []
  },
  {
   "cell_type": "code",
   "execution_count": 2,
   "metadata": {},
   "outputs": [],
   "source": [
    "num_list = [422, 136, 524, 85, 96, 719, 85, 92, 10, 17, 312, 542, 87, 23, 86, 191, 116, 35, 173, 45, 149, 59, 84, 69, 113, 166]\n",
    "\n",
    "# Initialize variables\n",
    "odd_sum = 0\n",
    "odd_count = 0\n",
    "\n",
    "# Iterate through the list\n",
    "for num in num_list:\n",
    "    if num % 2 != 0:  # Check if the number is odd\n",
    "        odd_sum += num\n",
    "        odd_count += 1\n",
    "        if odd_count == 5:  # Stop after adding the first 5 odd numbers\n",
    "            break\n",
    "\n",
    "print(odd_sum)"
   ]
  },
  {
   "cell_type": "code",
   "execution_count": 3,
   "metadata": {},
   "outputs": [
    {
     "name": "stdout",
     "output_type": "stream",
     "text": [
      "METHOD 1\n",
      "current weight: 0\n",
      "  adding bananas (15)\n",
      "current weight: 15\n",
      "  adding mattresses (24)\n",
      "current weight: 39\n",
      "  adding dog kennels (42)\n",
      "current weight: 81\n",
      "  adding machine (120)\n",
      "current weight: 201\n",
      "  breaking loop now!\n",
      "\n",
      "Final Weight: 201\n",
      "Final Items: ['bananas', 'mattresses', 'dog kennels', 'machine']\n",
      "\n",
      "METHOD 2\n",
      "current weight: 0\n",
      "  adding bananas (15)\n",
      "current weight: 15\n",
      "  adding mattresses (24)\n",
      "current weight: 39\n",
      "  adding dog kennels (42)\n",
      "current weight: 81\n",
      "  skipping machine (120)\n",
      "current weight: 81\n",
      "  adding cheeses (5)\n",
      "\n",
      "Final Weight: 86\n",
      "Final Items: ['bananas', 'mattresses', 'dog kennels', 'cheeses']\n"
     ]
    }
   ],
   "source": [
    "manifest = [(\"bananas\", 15), (\"mattresses\", 24), (\"dog kennels\", 42), (\"machine\", 120), (\"cheeses\", 5)]\n",
    "\n",
    "# the code breaks the loop when weight exceeds or reaches the limit\n",
    "print(\"METHOD 1\")\n",
    "weight = 0\n",
    "items = []\n",
    "for cargo_name, cargo_weight in manifest:\n",
    "    print(\"current weight: {}\".format(weight))\n",
    "    if weight >= 100:\n",
    "        print(\"  breaking loop now!\")\n",
    "        break\n",
    "    else:\n",
    "        print(\"  adding {} ({})\".format(cargo_name, cargo_weight))\n",
    "        items.append(cargo_name)\n",
    "        weight += cargo_weight\n",
    "\n",
    "print(\"\\nFinal Weight: {}\".format(weight))\n",
    "print(\"Final Items: {}\".format(items))\n",
    "\n",
    "# skips an iteration when adding an item would exceed the limit\n",
    "# Breaks the loop if weight is greater than or equal to the limit\n",
    "print(\"\\nMETHOD 2\")\n",
    "weight = 0\n",
    "items = []\n",
    "for cargo_name, cargo_weight in manifest:\n",
    "    print(\"current weight: {}\".format(weight))\n",
    "    if weight >= 100:\n",
    "        print(\"  breaking from the loop now!\")\n",
    "        break\n",
    "    elif weight + cargo_weight > 100:\n",
    "        print(\"  skipping {} ({})\".format(cargo_name, cargo_weight))\n",
    "        continue\n",
    "    else:\n",
    "        print(\"  adding {} ({})\".format(cargo_name, cargo_weight))\n",
    "        items.append(cargo_name)\n",
    "        weight += cargo_weight\n",
    "\n",
    "print(\"\\nFinal Weight: {}\".format(weight))\n",
    "print(\"Final Items: {}\".format(items))"
   ]
  },
  {
   "cell_type": "code",
   "execution_count": 1,
   "metadata": {},
   "outputs": [
    {
     "name": "stdout",
     "output_type": "stream",
     "text": [
      "Result using pow: 2222\n",
      "Manual verification result: 2222\n"
     ]
    }
   ],
   "source": [
    "# Manual modular arithmetic\n",
    "base = 18\n",
    "exponent = 13\n",
    "modulus = 2537\n",
    "\n",
    "# Step-by-step calculation using pow\n",
    "result = pow(base, exponent, modulus)\n",
    "print(\"Result using pow:\", result)  # Should print 2081\n",
    "\n",
    "# Manual verification using repeated squaring\n",
    "mod1 = (18 ** 2) % 2537\n",
    "mod2 = (mod1 ** 2) % 2537\n",
    "mod3 = (mod2 ** 2) % 2537\n",
    "final = (mod3 * mod2 * base) % 2537\n",
    "print(\"Manual verification result:\", final)  # Should print 2081\n"
   ]
  },
  {
   "cell_type": "code",
   "execution_count": 2,
   "metadata": {},
   "outputs": [
    {
     "name": "stdout",
     "output_type": "stream",
     "text": [
      "Plaintext to Ciphertext Mapping:\n",
      "S: 2222\n",
      "T: 2299\n",
      "O: 1616\n",
      "P: 2116\n",
      "\n",
      "Ciphertext Message:\n",
      "[2222, 2299, 1616, 2116]\n"
     ]
    }
   ],
   "source": [
    "# Function to encrypt a single letter\n",
    "def rsa_encrypt(m, e, n):\n",
    "    return pow(m, e, n)\n",
    "\n",
    "# Given values\n",
    "p = 43\n",
    "q = 59\n",
    "n = p * q  # Compute modulus\n",
    "e = 13     # Encryption exponent\n",
    "plaintext = {\"S\": 18, \"T\": 19, \"O\": 14, \"P\": 15}  # Letter mappings\n",
    "\n",
    "# Encrypt each letter\n",
    "ciphertext = {char: rsa_encrypt(m, e, n) for char, m in plaintext.items()}\n",
    "\n",
    "# Display results\n",
    "print(\"Plaintext to Ciphertext Mapping:\")\n",
    "for letter, encrypted in ciphertext.items():\n",
    "    print(f\"{letter}: {encrypted}\")\n",
    "\n",
    "print(\"\\nCiphertext Message:\")\n",
    "print(list(ciphertext.values()))\n"
   ]
  }
 ],
 "metadata": {
  "kernelspec": {
   "display_name": "venv",
   "language": "python",
   "name": "python3"
  },
  "language_info": {
   "codemirror_mode": {
    "name": "ipython",
    "version": 3
   },
   "file_extension": ".py",
   "mimetype": "text/x-python",
   "name": "python",
   "nbconvert_exporter": "python",
   "pygments_lexer": "ipython3",
   "version": "3.12.7"
  }
 },
 "nbformat": 4,
 "nbformat_minor": 2
}
