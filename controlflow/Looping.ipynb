{
 "cells": [
  {
   "cell_type": "code",
   "execution_count": 2,
   "metadata": {},
   "outputs": [
    {
     "name": "stdout",
     "output_type": "stream",
     "text": [
      "0.05904900000000002\n",
      "Nice work!\n"
     ]
    }
   ],
   "source": [
    "# Initial learning rate\n",
    "initial_lr = 0.1\n",
    "# Decay factor\n",
    "decay_factor = 0.9\n",
    "# Number of epochs\n",
    "epochs = 5\n",
    "\n",
    "# Initialize current learning rate\n",
    "current_lr = initial_lr\n",
    "# Initialize current epoch\n",
    "current_epoch = 0\n",
    "\n",
    "# While loop to apply learning rate decay\n",
    "# TODO\n",
    "\n",
    "while current_epoch < epochs:\n",
    "    current_lr *= decay_factor\n",
    "    current_epoch += 1\n",
    "\n",
    "print(current_lr)\n",
    "\n",
    "# Notebook grading\n",
    "if abs(current_lr - 0.059049) < 1e-6:\n",
    "    print(\"Nice work!\")\n",
    "else:\n",
    "    print(\"Not quite. Check your learning rate calculations.\")"
   ]
  },
  {
   "cell_type": "code",
   "execution_count": 3,
   "metadata": {},
   "outputs": [
    {
     "name": "stdout",
     "output_type": "stream",
     "text": [
      "[0.499, 1.502, -0.5005]\n",
      "Nice work!\n"
     ]
    }
   ],
   "source": [
    "# Model parameters\n",
    "parameters = [0.5, 1.5, -0.5]\n",
    "# Corresponding gradients\n",
    "gradients = [0.1, -0.2, 0.05]\n",
    "# Learning rate\n",
    "learning_rate = 0.01\n",
    "\n",
    "# For loop to update each parameter\n",
    "# TODO\n",
    "for i in range(len(parameters)):\n",
    "    parameters[i] -= learning_rate * gradients[i]\n",
    "\n",
    "print(parameters)\n",
    "# Notebook grading\n",
    "if parameters == [0.499, 1.502, -0.5005]:\n",
    "    print(\"Nice work!\")\n",
    "else:\n",
    "    print(\"Not quite. Check your parameter updates.\")"
   ]
  },
  {
   "cell_type": "code",
   "execution_count": 4,
   "metadata": {},
   "outputs": [
    {
     "name": "stdout",
     "output_type": "stream",
     "text": [
      "100\n",
      "Good job!\n"
     ]
    }
   ],
   "source": [
    "total_images = 100\n",
    "batch_size = 20\n",
    "\n",
    "processed_images = 0\n",
    "# TODO\n",
    "\n",
    "while processed_images < total_images:\n",
    "    processed_images += batch_size\n",
    "\n",
    "print(processed_images)\n",
    "\n",
    "### Notebook grading\n",
    "def get_solution(total_images, batch_size):\n",
    "    processed_images = 0\n",
    "    while processed_images < total_images:\n",
    "        processed_images += batch_size\n",
    "    return processed_images\n",
    "\n",
    "correct = get_solution(total_images, batch_size)\n",
    "\n",
    "if processed_images == correct:\n",
    "    print(\"Good job!\")\n",
    "else:\n",
    "    print(\"Oops! It doesn't look like the expected answer.\")\n"
   ]
  },
  {
   "cell_type": "code",
   "execution_count": 6,
   "metadata": {},
   "outputs": [
    {
     "name": "stdout",
     "output_type": "stream",
     "text": [
      "100\n",
      "Good job!\n"
     ]
    }
   ],
   "source": [
    "total_images = 100\n",
    "batch_size = 20\n",
    "\n",
    "if total_images < batch_size:\n",
    "    result = total_images\n",
    "else:\n",
    "    processed_images = 0\n",
    "    # TODO\n",
    "    while processed_images < total_images:\n",
    "        processed_images += batch_size\n",
    "    result = processed_images\n",
    "\n",
    "print(result)\n",
    "\n",
    "\n",
    "### Notebook grading\n",
    "def get_solution(total_images, batch_size):\n",
    "    if total_images < batch_size:\n",
    "        return total_images\n",
    "    else:\n",
    "        processed_images = 0\n",
    "        while processed_images < total_images:\n",
    "            processed_images += batch_size\n",
    "        return processed_images\n",
    "\n",
    "correct_ans = get_solution(total_images, batch_size)\n",
    "\n",
    "if result == correct_ans:\n",
    "    print(\"Good job!\")\n",
    "else:\n",
    "    print(\"Oops! It doesn't look like the expected answer.\")"
   ]
  },
  {
   "cell_type": "code",
   "execution_count": 7,
   "metadata": {},
   "outputs": [
    {
     "name": "stdout",
     "output_type": "stream",
     "text": [
      "49\n",
      "Good job!\n"
     ]
    }
   ],
   "source": [
    "limit = 50\n",
    "nearest_batch = 0\n",
    "current_value = 0\n",
    "\n",
    "# TODO\n",
    "\n",
    "while (current_value + 1)**2 < limit:\n",
    "    current_value += 1\n",
    "    nearest_batch = current_value**2\n",
    "\n",
    "print(nearest_batch)\n",
    "\n",
    "### Notebook grading\n",
    "def get_solution(limit):\n",
    "    current_value = 0\n",
    "    while (current_value + 1)**2 < limit:\n",
    "        current_value += 1\n",
    "        nearest_batch = current_value**2\n",
    "    return nearest_batch\n",
    "\n",
    "correct_ans = get_solution(limit)\n",
    "\n",
    "if nearest_batch == correct_ans:\n",
    "    print(\"Good job!\")\n",
    "else:\n",
    "    print(\"Not quite. Did you assign your result to `nearest_batch`?\")\n"
   ]
  },
  {
   "cell_type": "code",
   "execution_count": null,
   "metadata": {},
   "outputs": [],
   "source": []
  },
  {
   "cell_type": "code",
   "execution_count": null,
   "metadata": {},
   "outputs": [],
   "source": [
    "num_list = [422, 136, 524, 85, 96, 719, 85, 92, 10, 17, 312, 542, 87, 23, 86, 191, 116, 35, 173, 45, 149, 59, 84, 69, 113, 166]\n",
    "for num in num_list:\n",
    "    if num % 2 == 0 & num > 100:\n",
    "        print(num_list)"
   ]
  }
 ],
 "metadata": {
  "kernelspec": {
   "display_name": "venv",
   "language": "python",
   "name": "python3"
  },
  "language_info": {
   "codemirror_mode": {
    "name": "ipython",
    "version": 3
   },
   "file_extension": ".py",
   "mimetype": "text/x-python",
   "name": "python",
   "nbconvert_exporter": "python",
   "pygments_lexer": "ipython3",
   "version": "3.12.7"
  }
 },
 "nbformat": 4,
 "nbformat_minor": 2
}
