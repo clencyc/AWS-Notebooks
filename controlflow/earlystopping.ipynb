{
 "cells": [
  {
   "cell_type": "code",
   "execution_count": null,
   "metadata": {},
   "outputs": [],
   "source": [
    "epoch_performances = [(1, 0.5), (2, 0.45), (3, 0.47), (4, 0.44), (5, 0.43), (6, 0.42), (7, 0.44), (8, 0.41), (9, 0.42), (10, 0.43)]"
   ]
  },
  {
   "cell_type": "code",
   "execution_count": null,
   "metadata": {},
   "outputs": [
    {
     "ename": "",
     "evalue": "",
     "output_type": "error",
     "traceback": [
      "\u001b[1;31mRunning cells with 'Python 3.12.6' requires the ipykernel package.\n",
      "\u001b[1;31mRun the following command to install 'ipykernel' into the Python environment. \n",
      "\u001b[1;31mCommand: '/bin/python -m pip install ipykernel -U --user --force-reinstall'"
     ]
    }
   ],
   "source": [
    "print(\"METHOD 1: Immediate Stop\")\n",
    "best_loss = float('inf')\n",
    "epochs_ran = 0\n",
    "\n",
    "for epoch, val_loss in epoch_performances:\n",
    "    print(f\"Epoch {epoch} - Validation Loss: {val_loss}\")\n",
    "    if val_loss < best_loss:\n",
    "        best_loss = val_loss\n",
    "        epochs_ran += 1\n",
    "    else:\n",
    "        print(f\"Stopping early at epoch {epoch} as validation loss increased.\")\n",
    "        break\n",
    "\n",
    "print(f\"\\nTotal epochs ran: {epochs_ran}\")"
   ]
  },
  {
   "cell_type": "code",
   "execution_count": null,
   "metadata": {},
   "outputs": [],
   "source": [
    "print(\"\\nMETHOD 2: Patience\")\n",
    "patience = 2\n",
    "best_loss = float('inf')\n",
    "epochs_ran = 0\n",
    "patience_counter = 0\n",
    "\n",
    "for epoch, val_loss in epoch_performances:\n",
    "    print(f\"Epoch {epoch} - Validation Loss: {val_loss}\")\n",
    "    if val_loss < best_loss:\n",
    "        best_loss = val_loss\n",
    "        patience_counter = 0\n",
    "        epochs_ran += 1\n",
    "    else:\n",
    "        patience_counter += 1\n",
    "        if patience_counter >= patience:\n",
    "            print(f\"Stopping early at epoch {epoch} as validation loss did not improve for {patience} epochs.\")\n",
    "            break\n",
    "        epochs_ran += 1\n",
    "\n",
    "print(f\"\\nTotal epochs ran: {epochs_ran}\")"
   ]
  }
 ],
 "metadata": {
  "kernelspec": {
   "display_name": "Python 3",
   "language": "python",
   "name": "python3"
  },
  "language_info": {
   "name": "python",
   "version": "3.12.6"
  }
 },
 "nbformat": 4,
 "nbformat_minor": 2
}
