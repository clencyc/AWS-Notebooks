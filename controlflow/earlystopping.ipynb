{
 "cells": [
  {
   "cell_type": "code",
   "execution_count": null,
   "metadata": {},
   "outputs": [],
   "source": [
    "epoch_performances = [(1, 0.5), (2, 0.45), (3, 0.47), (4, 0.44), (5, 0.43), (6, 0.42), (7, 0.44), (8, 0.41), (9, 0.42), (10, 0.43)]"
   ]
  },
  {
   "cell_type": "code",
   "execution_count": 3,
   "metadata": {},
   "outputs": [
    {
     "name": "stdout",
     "output_type": "stream",
     "text": [
      "METHOD 1: Immediate Stop\n",
      "Epoch 1 - Validation Loss: 0.5\n",
      "Epoch 2 - Validation Loss: 0.4\n",
      "Epoch 3 - Validation Loss: 0.35\n",
      "Epoch 4 - Validation Loss: 0.36\n",
      "Stopping early at epoch 4 as validation loss increased.\n",
      "\n",
      "Total epochs ran: 3\n",
      "\n",
      "METHOD 2: Patience\n",
      "Epoch 1 - Validation Loss: 0.5\n",
      "Epoch 2 - Validation Loss: 0.4\n",
      "Epoch 3 - Validation Loss: 0.35\n",
      "Epoch 4 - Validation Loss: 0.36\n",
      "Epoch 5 - Validation Loss: 0.34\n",
      "Epoch 6 - Validation Loss: 0.33\n",
      "Epoch 7 - Validation Loss: 0.32\n",
      "Epoch 8 - Validation Loss: 0.31\n",
      "Epoch 9 - Validation Loss: 0.3\n",
      "Epoch 10 - Validation Loss: 0.29\n",
      "\n",
      "Total epochs ran: 10\n"
     ]
    }
   ],
   "source": [
    "# Sample epoch performances for demonstration\n",
    "epoch_performances = [(1, 0.5), (2, 0.4), (3, 0.35), (4, 0.36), (5, 0.34), (6, 0.33), (7, 0.32), (8, 0.31), (9, 0.30), (10, 0.29)]\n",
    "\n",
    "# Method 1: Immediate Stop\n",
    "print(\"METHOD 1: Immediate Stop\")\n",
    "best_loss = float('inf')\n",
    "epochs_ran = 0\n",
    "\n",
    "for epoch, val_loss in epoch_performances:\n",
    "    print(f\"Epoch {epoch} - Validation Loss: {val_loss}\")\n",
    "    if val_loss < best_loss:\n",
    "        best_loss = val_loss\n",
    "        epochs_ran += 1\n",
    "    else:\n",
    "        print(f\"Stopping early at epoch {epoch} as validation loss increased.\")\n",
    "        break\n",
    "\n",
    "print(f\"\\nTotal epochs ran: {epochs_ran}\")\n",
    "\n",
    "# Method 2: Patience\n",
    "print(\"\\nMETHOD 2: Patience\")\n",
    "patience = 2\n",
    "best_loss = float('inf')\n",
    "epochs_ran = 0\n",
    "patience_counter = 0\n",
    "\n",
    "for epoch, val_loss in epoch_performances:\n",
    "    print(f\"Epoch {epoch} - Validation Loss: {val_loss}\")\n",
    "    if val_loss < best_loss:\n",
    "        best_loss = val_loss\n",
    "        patience_counter = 0\n",
    "        epochs_ran += 1\n",
    "    else:\n",
    "        patience_counter += 1\n",
    "        if patience_counter >= patience:\n",
    "            print(f\"Stopping early at epoch {epoch} as validation loss did not improve for {patience} epochs.\")\n",
    "            break\n",
    "        epochs_ran += 1\n",
    "\n",
    "print(f\"\\nTotal epochs ran: {epochs_ran}\")"
   ]
  },
  {
   "cell_type": "code",
   "execution_count": 5,
   "metadata": {},
   "outputs": [
    {
     "name": "stdout",
     "output_type": "stream",
     "text": [
      "\n",
      "METHOD 2: Patience\n",
      "Epoch 1 - Validation Loss: 0.5\n",
      "Epoch 2 - Validation Loss: 0.4\n",
      "Epoch 3 - Validation Loss: 0.35\n",
      "Epoch 4 - Validation Loss: 0.36\n",
      "Epoch 5 - Validation Loss: 0.34\n",
      "Epoch 6 - Validation Loss: 0.33\n",
      "Epoch 7 - Validation Loss: 0.32\n",
      "Epoch 8 - Validation Loss: 0.31\n",
      "Epoch 9 - Validation Loss: 0.3\n",
      "Epoch 10 - Validation Loss: 0.29\n",
      "\n",
      "Total epochs ran: 10\n"
     ]
    }
   ],
   "source": [
    "print(\"\\nMETHOD 2: Patience\")\n",
    "patience = 2\n",
    "best_loss = float('inf')\n",
    "epochs_ran = 0\n",
    "patience_counter = 0\n",
    "\n",
    "for epoch, val_loss in epoch_performances:\n",
    "    print(f\"Epoch {epoch} - Validation Loss: {val_loss}\")\n",
    "    if val_loss < best_loss:\n",
    "        best_loss = val_loss\n",
    "        patience_counter = 0\n",
    "        epochs_ran += 1\n",
    "    else:\n",
    "        patience_counter += 1\n",
    "        if patience_counter >= patience:\n",
    "            print(f\"Stopping early at epoch {epoch} as validation loss did not improve for {patience} epochs.\")\n",
    "            break\n",
    "        epochs_ran += 1\n",
    "\n",
    "print(f\"\\nTotal epochs ran: {epochs_ran}\")"
   ]
  }
 ],
 "metadata": {
  "kernelspec": {
   "display_name": "venv",
   "language": "python",
   "name": "python3"
  },
  "language_info": {
   "codemirror_mode": {
    "name": "ipython",
    "version": 3
   },
   "file_extension": ".py",
   "mimetype": "text/x-python",
   "name": "python",
   "nbconvert_exporter": "python",
   "pygments_lexer": "ipython3",
   "version": "3.12.7"
  }
 },
 "nbformat": 4,
 "nbformat_minor": 2
}
