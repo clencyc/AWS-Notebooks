{
 "cells": [
  {
   "cell_type": "code",
   "execution_count": 1,
   "metadata": {},
   "outputs": [
    {
     "name": "stdout",
     "output_type": "stream",
     "text": [
      "\n",
      "Make sure you're inserting spaces between each feature, and that the summary is exactly 140 characters long.\n"
     ]
    }
   ],
   "source": [
    "features = [\n",
    "    \"Feature 1: High accuracy\",\n",
    "    \"Feature 2: Low latency\",\n",
    "    \"Feature 3: Scalability\",\n",
    "    \"Feature 4: Robustness\",\n",
    "    \"Feature 5: Interpretability\"\n",
    "]\n",
    "\n",
    "feature_summary = \"\"\n",
    "# Write your loop here\n",
    "# TODO\n",
    "for feature in features:\n",
    "    if len(feature_summary) + len(feature) + 1 > 140:\n",
    "        feature_summary += feature[:140 - len(feature_summary)]\n",
    "        break\n",
    "    if feature_summary:\n",
    "        feature_summary += \"\\n\"\n",
    "    feature_summary += feature\n",
    "\n",
    "# Print the resulting summary\n",
    "print(feature_summary)\n",
    "\n",
    "### Notebook grading\n",
    "def get_solution(features):\n",
    "    feature_summary = \"\"\n",
    "    for feature in features:\n",
    "        if len(feature_summary) + len(feature) + 1 > 140:\n",
    "            feature_summary += feature[:140 - len(feature_summary)]\n",
    "            break\n",
    "        if feature_summary:\n",
    "            feature_summary += \"\\n\"\n",
    "        feature_summary += feature\n",
    "\n",
    "    return feature_summary\n",
    "\n",
    "correct_ans = get_solution(features)\n",
    "\n",
    "if feature_summary == correct_ans:\n",
    "    print(\"Well done!\")\n",
    "else:\n",
    "    print(\"Make sure you're inserting spaces between each feature, and that the summary is exactly 140 characters long.\")"
   ]
  }
 ],
 "metadata": {
  "kernelspec": {
   "display_name": "venv",
   "language": "python",
   "name": "python3"
  },
  "language_info": {
   "codemirror_mode": {
    "name": "ipython",
    "version": 3
   },
   "file_extension": ".py",
   "mimetype": "text/x-python",
   "name": "python",
   "nbconvert_exporter": "python",
   "pygments_lexer": "ipython3",
   "version": "3.12.7"
  }
 },
 "nbformat": 4,
 "nbformat_minor": 2
}
