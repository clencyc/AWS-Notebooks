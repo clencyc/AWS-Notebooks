{
 "cells": [
  {
   "cell_type": "code",
   "execution_count": 1,
   "metadata": {},
   "outputs": [
    {
     "name": "stdout",
     "output_type": "stream",
     "text": [
      "Nice work calculating the average accuracy!\n",
      "\n",
      "Nice work finding the best model!\n",
      "\n"
     ]
    }
   ],
   "source": [
    "# Part 1: Define the dictionary\n",
    "# TODO: replace None with appropriate code\n",
    "# Define a dictionary, `model_accuracies`, that provides information\n",
    "# on the accuracies of different image classification models. \n",
    "# The key is the name of a model (a string), and the associated value \n",
    "# is its accuracy (a float).\n",
    "#   Key      |   Value\n",
    "# ResNet     |   0.91\n",
    "# AlexNet    |   0.85\n",
    "# VGG        |   0.88\n",
    "# Inception  |   0.92\n",
    "model_accuracies = {\n",
    "    \"ResNet\": 0.91,\n",
    "    \"AlexNet\": 0.85,\n",
    "    \"VGG\": 0.88,\n",
    "    \"Inception\": 0.92\n",
    "}\n",
    "\n",
    "# Part 2: Calculate the average accuracy\n",
    "# TODO: replace None with appropriate code\n",
    "average_accuracy = sum(model_accuracies.values()) / len(model_accuracies)\n",
    "\n",
    "# Part 3: Find the best model\n",
    "# TODO: replace None with appropriate code\n",
    "best_model = max(model_accuracies, key=model_accuracies.get)\n",
    "\n",
    "# Part 4: Add a new model\n",
    "# TODO: replace None with appropriate code\n",
    "# Add the model MobileNet with an accuracy of 0.89\n",
    "new_model = 'MobileNet'\n",
    "new_accuracy = 0.89\n",
    "\n",
    "# Add the new model to the dictionary\n",
    "model_accuracies[new_model] = 'new_model'\n",
    "\n",
    "### Notebook grading\n",
    "model_accuracies_solution = {\n",
    "    \"ResNet\": 0.91, \n",
    "    \"AlexNet\": 0.85,\n",
    "    \"VGG\": 0.88,\n",
    "    \"Inception\": 0.92,\n",
    "    \"MobileNet\": 0.89\n",
    "}\n",
    "\n",
    "if model_accuracies == model_accuracies_solution:\n",
    "    print(\"Nice work defining the dictionary!\\n\")\n",
    "\n",
    "average_accuracy_solution = 0.89\n",
    "if average_accuracy == average_accuracy_solution:\n",
    "    print(\"Nice work calculating the average accuracy!\\n\")\n",
    "else:\n",
    "    print(f\"Double check your average accuracy calculation. It should be {average_accuracy_solution}.\")\n",
    "\n",
    "best_model_solution = 'Inception'\n",
    "if best_model == best_model_solution:\n",
    "    print(\"Nice work finding the best model!\\n\")\n",
    "else:\n",
    "    print(f\"Double check your best model calculation. It should be {best_model_solution}.\")"
   ]
  },
  {
   "cell_type": "code",
   "execution_count": null,
   "metadata": {},
   "outputs": [],
   "source": [
    "# invalid dictionary - this should break\n",
    "# to correct this, you should use these brackets ()\n",
    "room_numbers = {\n",
    "    ['Freddie', 'Jen']: 403, \n",
    "    ['Ned', 'Keith']: 391,\n",
    "    ['Kristin', 'Jazzmyne']: 411,\n",
    "    ['Eugene', 'Zach']: 395\n",
    "}"
   ]
  },
  {
   "cell_type": "code",
   "execution_count": null,
   "metadata": {},
   "outputs": [],
   "source": [
    "# invalid dictionary - this should break\n",
    "research_topics = {\n",
    "    ['AlexNet', 'Convolutional Neural Network']: 'Image Classification',\n",
    "    ['VGG', 'Visual Geometry Group']: 'Deep Learning',\n",
    "    ['ResNet', 'Residual Networks']: 'Network Architecture'\n",
    "}\n"
   ]
  },
  {
   "cell_type": "code",
   "execution_count": 5,
   "metadata": {},
   "outputs": [
    {
     "name": "stdout",
     "output_type": "stream",
     "text": [
      "{('AlexNet', 'Convolutional Neural Network'): 'Image Classification', ('VGG', 'Visual Geometry Group'): 'Deep Learning', ('ResNet', 'Residual Networks'): 'Network Architecture'}\n"
     ]
    }
   ],
   "source": [
    "# corrected dictionary using tuples as keys\n",
    "research_topics = {\n",
    "    ('AlexNet', 'Convolutional Neural Network'): 'Image Classification',\n",
    "    ('VGG', 'Visual Geometry Group'): 'Deep Learning',\n",
    "    ('ResNet', 'Residual Networks'): 'Network Architecture'\n",
    "}\n",
    "\n",
    "# Verify the corrected dictionary\n",
    "print(research_topics)\n"
   ]
  },
  {
   "cell_type": "markdown",
   "metadata": {},
   "source": [
    "Lightweight Models in Deep Learning\n"
   ]
  },
  {
   "cell_type": "code",
   "execution_count": 7,
   "metadata": {},
   "outputs": [
    {
     "name": "stdout",
     "output_type": "stream",
     "text": [
      "Your code passes all of our tests, nice work!\n"
     ]
    }
   ],
   "source": [
    "models = {\n",
    "    'ResNet': {\n",
    "        'layers': 50, \n",
    "        'accuracy': 0.91, \n",
    "        'type': 'CNN'\n",
    "        },\n",
    "    'MobileNet': {\n",
    "        'layers': 28, \n",
    "        'accuracy': 0.89, \n",
    "        'type': 'CNN'\n",
    "        }\n",
    "}\n",
    "\n",
    "# TODO: Add an 'is_lightweight' entry to the ResNet and MobileNet dictionaries\n",
    "# hint: MobileNet is a lightweight model, ResNet isn't\n",
    "models['ResNet']['is_lightweight'] = False\n",
    "models['MobileNet']['is_lightweight'] = True\n",
    "### Notebook grading\n",
    "explanation_str = '''Your code produced the wrong result. Looks like you did not add the 'is_lightweight' property properly for {}.'''\n",
    "if not('is_lightweight' in models['ResNet'].keys()) or models['ResNet']['is_lightweight'] != False:\n",
    "    print(explanation_str.format(\"'ResNet'\"))\n",
    "elif not('is_lightweight' in models['MobileNet'].keys()) or models['MobileNet']['is_lightweight'] != True:\n",
    "    print(explanation_str.format(\"'MobileNet'\"))\n",
    "else:\n",
    "    print(\"\"\"Your code passes all of our tests, nice work!\"\"\")"
   ]
  },
  {
   "cell_type": "markdown",
   "metadata": {},
   "source": [
    "# Quiz: Count Unique Words in AI Model Descriptions¶\n",
    "Your task for this quiz is to find the number of unique words in the text of AI model descriptions. In the code editor below, complete these three steps to get your answer.\n",
    "\n",
    "1. Split model_descriptions into a list of words. Hint: You can use a string method you learned in the previous lesson.\n",
    "2. Convert the list into a data structure that would keep only the unique elements from the list.\n",
    "3. Print the length of the container."
   ]
  },
  {
   "cell_type": "code",
   "execution_count": 8,
   "metadata": {},
   "outputs": [
    {
     "name": "stdout",
     "output_type": "stream",
     "text": [
      "ResNet is a convolutional neural network that is 50 layers deep. MobileNet is a lightweight convolutional neural network designed for mobile and embedded vision applications. VGG is a convolutional neural network model proposed by Visual Geometry Group of Oxford University. Inception is a deep convolutional neural network architecture that has achieved state-of-the-art results. \n",
      "\n",
      "['ResNet', 'is', 'a', 'convolutional', 'neural', 'network', 'that', 'is', '50', 'layers', 'deep.', 'MobileNet', 'is', 'a', 'lightweight', 'convolutional', 'neural', 'network', 'designed', 'for', 'mobile', 'and', 'embedded', 'vision', 'applications.', 'VGG', 'is', 'a', 'convolutional', 'neural', 'network', 'model', 'proposed', 'by', 'Visual', 'Geometry', 'Group', 'of', 'Oxford', 'University.', 'Inception', 'is', 'a', 'deep', 'convolutional', 'neural', 'network', 'architecture', 'that', 'has', 'achieved', 'state-of-the-art', 'results.'] \n",
      "\n",
      "{'by', 'applications.', 'has', 'neural', 'for', 'Geometry', 'designed', 'embedded', 'deep.', 'lightweight', 'Oxford', 'is', 'vision', 'University.', 'deep', 'proposed', 'network', 'mobile', 'layers', 'state-of-the-art', 'Visual', 'architecture', 'convolutional', 'ResNet', 'VGG', 'of', 'and', 'achieved', 'a', 'MobileNet', 'Inception', 'that', 'model', 'Group', 'results.', '50'} \n",
      "\n",
      "36 \n",
      "\n",
      "Nice job! You can see my solution in the next page.\n"
     ]
    }
   ],
   "source": [
    "model_descriptions = \"ResNet is a convolutional neural network that is 50 layers deep. MobileNet is a lightweight convolutional neural network designed for mobile and embedded vision applications. VGG is a convolutional neural network model proposed by Visual Geometry Group of Oxford University. Inception is a deep convolutional neural network architecture that has achieved state-of-the-art results.\"\n",
    "\n",
    "print(model_descriptions, '\\n')\n",
    "\n",
    "# TODO: replace None with appropriate code\n",
    "# split model_descriptions into list of words\n",
    "model_list = model_descriptions.split()\n",
    "print(model_list, '\\n')\n",
    "\n",
    "# TODO: replace None with appropriate code\n",
    "# convert list to a data structure that stores unique elements\n",
    "model_set = set(model_list)\n",
    "print(model_set, '\\n')\n",
    "\n",
    "# TODO: replace None with appropriate code\n",
    "# find the number of unique words\n",
    "num_unique = len(model_set)\n",
    "print(num_unique, '\\n')\n",
    "\n",
    "### Notebook grading\n",
    "correct_answer = 36  # Adjust this according to the actual count\n",
    "if type(model_list) != list:\n",
    "    print(\"`model_list` should be a list of all words in `model_descriptions`.\")\n",
    "elif type(model_set) != set:\n",
    "    print(\"`model_set` should be a set of all unique words in `model_list`.\")\n",
    "elif type(num_unique) != int:\n",
    "    print(\"Make sure you define `num_unique` with the number of unique words!\")\n",
    "elif num_unique != correct_answer:\n",
    "    print(\"Not quite! Are you finding the length of the set correctly?\")\n",
    "else:\n",
    "    print(\"Nice job! You can see my solution in the next page.\")\n"
   ]
  },
  {
   "cell_type": "markdown",
   "metadata": {},
   "source": [
    "# Quiz: Model Accuracy Dictionary¶\n",
    "In the code cell below, you'll find a dictionary containing the names of different AI models as keys and their corresponding accuracy values stored as values. Use this dictionary to answer the following questions. Submit these answers in the quiz below this Jupyter Notebook.\n",
    "\n",
    "Try to answer these using code, rather than inspecting the dictionary manually!\n",
    "\n",
    "1. How many unique models are in model_accuracy_dict?\n",
    "2. Is the key \"SqueezeNet\" in model_accuracy_dict?\n",
    "3. What is the first element in the list created when model_accuracy_dict is sorted by keys?\n",
    "4. Which key (model) has the highest value in model_accuracy_dict?"
   ]
  },
  {
   "cell_type": "code",
   "execution_count": 9,
   "metadata": {},
   "outputs": [
    {
     "name": "stdout",
     "output_type": "stream",
     "text": [
      "{'ResNet': 0.91, 'MobileNet': 0.89, 'VGG': 0.88, 'Inception': 0.92, 'AlexNet': 0.85, 'EfficientNet': 0.93, 'SqueezeNet': 0.87} \n",
      "\n",
      "7\n",
      "True\n",
      "['AlexNet', 'EfficientNet', 'Inception', 'MobileNet', 'ResNet', 'SqueezeNet', 'VGG']\n",
      "AlexNet\n",
      "EfficientNet\n"
     ]
    }
   ],
   "source": [
    "model_accuracy_dict = {\n",
    "    'ResNet': 0.91, \n",
    "    'MobileNet': 0.89, \n",
    "    'VGG': 0.88, \n",
    "    'Inception': 0.92, \n",
    "    'AlexNet': 0.85, \n",
    "    'EfficientNet': 0.93, \n",
    "    'SqueezeNet': 0.87\n",
    "}\n",
    "\n",
    "print(model_accuracy_dict, '\\n')\n",
    "\n",
    "# find number of unique keys in the dictionary\n",
    "num_models = len(set(model_accuracy_dict.keys()))\n",
    "print(num_models)\n",
    "\n",
    "# find whether 'SqueezeNet' is a key in the dictionary\n",
    "contains_squeezenet = model_accuracy_dict.get('SqueezeNet') is not None\n",
    "print(contains_squeezenet)\n",
    "\n",
    "# create and sort a list of the dictionary's keys\n",
    "sorted_keys = sorted(model_accuracy_dict.keys())\n",
    "print(sorted_keys)\n",
    "\n",
    "# get the first element in the sorted list of keys\n",
    "first_key = sorted_keys[0]\n",
    "print(first_key)\n",
    "\n",
    "# find the element with the highest value in the dictionary\n",
    "highest_accuracy_model = max(model_accuracy_dict, key=model_accuracy_dict.get)\n",
    "print(highest_accuracy_model)"
   ]
  },
  {
   "cell_type": "code",
   "execution_count": 10,
   "metadata": {},
   "outputs": [
    {
     "name": "stdout",
     "output_type": "stream",
     "text": [
      "Nice job! You can see my solution in the next page.\n"
     ]
    }
   ],
   "source": [
    "correct_num_models = 7\n",
    "correct_contains_squeezenet = True\n",
    "correct_first_key = 'AlexNet'\n",
    "correct_highest_accuracy_model = 'EfficientNet'\n",
    "\n",
    "if num_models != correct_num_models:\n",
    "    print(f\"Not quite! The number of unique models should be {correct_num_models}.\")\n",
    "elif contains_squeezenet != correct_contains_squeezenet:\n",
    "    print(f\"Not quite! Check if 'SqueezeNet' is a key in the dictionary.\")\n",
    "elif first_key != correct_first_key:\n",
    "    print(f\"Not quite! The first key when sorted should be {correct_first_key}.\")\n",
    "elif highest_accuracy_model != correct_highest_accuracy_model:\n",
    "    print(f\"Not quite! The model with the highest accuracy should be {correct_highest_accuracy_model}.\")\n",
    "else:\n",
    "    print(\"Nice job! You can see my solution in the next page.\")\n"
   ]
  }
 ],
 "metadata": {
  "kernelspec": {
   "display_name": "venv",
   "language": "python",
   "name": "python3"
  },
  "language_info": {
   "codemirror_mode": {
    "name": "ipython",
    "version": 3
   },
   "file_extension": ".py",
   "mimetype": "text/x-python",
   "name": "python",
   "nbconvert_exporter": "python",
   "pygments_lexer": "ipython3",
   "version": "3.12.7"
  }
 },
 "nbformat": 4,
 "nbformat_minor": 2
}
