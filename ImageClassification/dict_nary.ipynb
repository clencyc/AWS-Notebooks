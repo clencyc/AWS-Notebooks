{
 "cells": [
  {
   "cell_type": "code",
   "execution_count": 1,
   "metadata": {},
   "outputs": [
    {
     "name": "stdout",
     "output_type": "stream",
     "text": [
      "Nice work calculating the average accuracy!\n",
      "\n",
      "Nice work finding the best model!\n",
      "\n"
     ]
    }
   ],
   "source": [
    "# Part 1: Define the dictionary\n",
    "# TODO: replace None with appropriate code\n",
    "# Define a dictionary, `model_accuracies`, that provides information\n",
    "# on the accuracies of different image classification models. \n",
    "# The key is the name of a model (a string), and the associated value \n",
    "# is its accuracy (a float).\n",
    "#   Key      |   Value\n",
    "# ResNet     |   0.91\n",
    "# AlexNet    |   0.85\n",
    "# VGG        |   0.88\n",
    "# Inception  |   0.92\n",
    "model_accuracies = {\n",
    "    \"ResNet\": 0.91,\n",
    "    \"AlexNet\": 0.85,\n",
    "    \"VGG\": 0.88,\n",
    "    \"Inception\": 0.92\n",
    "}\n",
    "\n",
    "# Part 2: Calculate the average accuracy\n",
    "# TODO: replace None with appropriate code\n",
    "average_accuracy = sum(model_accuracies.values()) / len(model_accuracies)\n",
    "\n",
    "# Part 3: Find the best model\n",
    "# TODO: replace None with appropriate code\n",
    "best_model = max(model_accuracies, key=model_accuracies.get)\n",
    "\n",
    "# Part 4: Add a new model\n",
    "# TODO: replace None with appropriate code\n",
    "# Add the model MobileNet with an accuracy of 0.89\n",
    "new_model = 'MobileNet'\n",
    "new_accuracy = 0.89\n",
    "\n",
    "# Add the new model to the dictionary\n",
    "model_accuracies[new_model] = 'new_model'\n",
    "\n",
    "### Notebook grading\n",
    "model_accuracies_solution = {\n",
    "    \"ResNet\": 0.91, \n",
    "    \"AlexNet\": 0.85,\n",
    "    \"VGG\": 0.88,\n",
    "    \"Inception\": 0.92,\n",
    "    \"MobileNet\": 0.89\n",
    "}\n",
    "\n",
    "if model_accuracies == model_accuracies_solution:\n",
    "    print(\"Nice work defining the dictionary!\\n\")\n",
    "\n",
    "average_accuracy_solution = 0.89\n",
    "if average_accuracy == average_accuracy_solution:\n",
    "    print(\"Nice work calculating the average accuracy!\\n\")\n",
    "else:\n",
    "    print(f\"Double check your average accuracy calculation. It should be {average_accuracy_solution}.\")\n",
    "\n",
    "best_model_solution = 'Inception'\n",
    "if best_model == best_model_solution:\n",
    "    print(\"Nice work finding the best model!\\n\")\n",
    "else:\n",
    "    print(f\"Double check your best model calculation. It should be {best_model_solution}.\")"
   ]
  },
  {
   "cell_type": "code",
   "execution_count": null,
   "metadata": {},
   "outputs": [],
   "source": [
    "# invalid dictionary - this should break\n",
    "# to correct this, you should use these brackets ()\n",
    "room_numbers = {\n",
    "    ['Freddie', 'Jen']: 403, \n",
    "    ['Ned', 'Keith']: 391,\n",
    "    ['Kristin', 'Jazzmyne']: 411,\n",
    "    ['Eugene', 'Zach']: 395\n",
    "}"
   ]
  },
  {
   "cell_type": "code",
   "execution_count": null,
   "metadata": {},
   "outputs": [],
   "source": [
    "# invalid dictionary - this should break\n",
    "research_topics = {\n",
    "    ['AlexNet', 'Convolutional Neural Network']: 'Image Classification',\n",
    "    ['VGG', 'Visual Geometry Group']: 'Deep Learning',\n",
    "    ['ResNet', 'Residual Networks']: 'Network Architecture'\n",
    "}\n"
   ]
  },
  {
   "cell_type": "code",
   "execution_count": 5,
   "metadata": {},
   "outputs": [
    {
     "name": "stdout",
     "output_type": "stream",
     "text": [
      "{('AlexNet', 'Convolutional Neural Network'): 'Image Classification', ('VGG', 'Visual Geometry Group'): 'Deep Learning', ('ResNet', 'Residual Networks'): 'Network Architecture'}\n"
     ]
    }
   ],
   "source": [
    "# corrected dictionary using tuples as keys\n",
    "research_topics = {\n",
    "    ('AlexNet', 'Convolutional Neural Network'): 'Image Classification',\n",
    "    ('VGG', 'Visual Geometry Group'): 'Deep Learning',\n",
    "    ('ResNet', 'Residual Networks'): 'Network Architecture'\n",
    "}\n",
    "\n",
    "# Verify the corrected dictionary\n",
    "print(research_topics)\n"
   ]
  },
  {
   "cell_type": "markdown",
   "metadata": {},
   "source": [
    "Lightweight Models in Deep Learning\n"
   ]
  },
  {
   "cell_type": "code",
   "execution_count": 7,
   "metadata": {},
   "outputs": [
    {
     "name": "stdout",
     "output_type": "stream",
     "text": [
      "Your code passes all of our tests, nice work!\n"
     ]
    }
   ],
   "source": [
    "models = {\n",
    "    'ResNet': {\n",
    "        'layers': 50, \n",
    "        'accuracy': 0.91, \n",
    "        'type': 'CNN'\n",
    "        },\n",
    "    'MobileNet': {\n",
    "        'layers': 28, \n",
    "        'accuracy': 0.89, \n",
    "        'type': 'CNN'\n",
    "        }\n",
    "}\n",
    "\n",
    "# TODO: Add an 'is_lightweight' entry to the ResNet and MobileNet dictionaries\n",
    "# hint: MobileNet is a lightweight model, ResNet isn't\n",
    "models['ResNet']['is_lightweight'] = False\n",
    "models['MobileNet']['is_lightweight'] = True\n",
    "### Notebook grading\n",
    "explanation_str = '''Your code produced the wrong result. Looks like you did not add the 'is_lightweight' property properly for {}.'''\n",
    "if not('is_lightweight' in models['ResNet'].keys()) or models['ResNet']['is_lightweight'] != False:\n",
    "    print(explanation_str.format(\"'ResNet'\"))\n",
    "elif not('is_lightweight' in models['MobileNet'].keys()) or models['MobileNet']['is_lightweight'] != True:\n",
    "    print(explanation_str.format(\"'MobileNet'\"))\n",
    "else:\n",
    "    print(\"\"\"Your code passes all of our tests, nice work!\"\"\")"
   ]
  },
  {
   "cell_type": "markdown",
   "metadata": {},
   "source": [
    "# Quiz: Count Unique Words in AI Model Descriptions¶\n",
    "Your task for this quiz is to find the number of unique words in the text of AI model descriptions. In the code editor below, complete these three steps to get your answer.\n",
    "\n",
    "1. Split model_descriptions into a list of words. Hint: You can use a string method you learned in the previous lesson.\n",
    "2. Convert the list into a data structure that would keep only the unique elements from the list.\n",
    "3. Print the length of the container."
   ]
  },
  {
   "cell_type": "code",
   "execution_count": null,
   "metadata": {},
   "outputs": [],
   "source": [
    "model_descriptions = \"ResNet is a convolutional neural network that is 50 layers deep. MobileNet is a lightweight convolutional neural network designed for mobile and embedded vision applications. VGG is a convolutional neural network model proposed by Visual Geometry Group of Oxford University. Inception is a deep convolutional neural network architecture that has achieved state-of-the-art results.\"\n",
    "\n",
    "print(model_descriptions, '\\n')\n",
    "\n",
    "# TODO: replace None with appropriate code\n",
    "# split model_descriptions into list of words\n",
    "model_list = model_descriptions.split()\n",
    "print(model_list, '\\n')\n",
    "\n",
    "# TODO: replace None with appropriate code\n",
    "# convert list to a data structure that stores unique elements\n",
    "model_set = set(model_list)\n",
    "print(model_set, '\\n')\n",
    "\n",
    "# TODO: replace None with appropriate code\n",
    "# find the number of unique words\n",
    "num_unique = len(model_set)\n",
    "print(num_unique, '\\n')\n",
    "\n",
    "### Notebook grading\n",
    "correct_answer = 36  # Adjust this according to the actual count\n",
    "if type(model_list) != list:\n",
    "    print(\"`model_list` should be a list of all words in `model_descriptions`.\")\n",
    "elif type(model_set) != set:\n",
    "    print(\"`model_set` should be a set of all unique words in `model_list`.\")\n",
    "elif type(num_unique) != int:\n",
    "    print(\"Make sure you define `num_unique` with the number of unique words!\")\n",
    "elif num_unique != correct_answer:\n",
    "    print(\"Not quite! Are you finding the length of the set correctly?\")\n",
    "else:\n",
    "    print(\"Nice job! You can see my solution in the next page.\")\n"
   ]
  }
 ],
 "metadata": {
  "kernelspec": {
   "display_name": "venv",
   "language": "python",
   "name": "python3"
  },
  "language_info": {
   "codemirror_mode": {
    "name": "ipython",
    "version": 3
   },
   "file_extension": ".py",
   "mimetype": "text/x-python",
   "name": "python",
   "nbconvert_exporter": "python",
   "pygments_lexer": "ipython3",
   "version": "3.12.7"
  }
 },
 "nbformat": 4,
 "nbformat_minor": 2
}
