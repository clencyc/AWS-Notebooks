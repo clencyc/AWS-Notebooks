{
 "cells": [
  {
   "cell_type": "markdown",
   "id": "decb8468-78bc-4599-88c9-7d7b5d9e6108",
   "metadata": {},
   "source": [
    "# QUIZ: Coding AND and NOT Perceptrons in Python"
   ]
  },
  {
   "cell_type": "markdown",
   "id": "8e821f5c-626c-4489-8fc4-221d48c64561",
   "metadata": {},
   "source": [
    "#### what are the weights and bias for the AND perceptron?\n",
    "Set the weights (and_weight1, and_weight2) and bias (and_bias) to values that will correctly determine the AND operation as shown above. More than one set of values will work!"
   ]
  },
  {
   "cell_type": "code",
   "execution_count": 5,
   "id": "07593f79-08ac-44f6-bd3f-42a1a8930f79",
   "metadata": {},
   "outputs": [
    {
     "name": "stdout",
     "output_type": "stream",
     "text": [
      "Nice!  You got it all correct.\n"
     ]
    }
   ],
   "source": [
    "# TODO: Set and_weight1, and_weight2, and and_bias\n",
    "and_weight1 = 0.2\n",
    "and_weight2 = 0.3\n",
    "and_bias = -0.4\n",
    "\n",
    "### Notebook grading\n",
    "\n",
    "# Inputs and outputs (only 1 AND 1 should result in True)\n",
    "and_test_inputs = [(0, 0), (0, 1), (1, 0), (1, 1)]\n",
    "and_correct_outputs = [False, False, False, True]\n",
    "and_outputs = []\n",
    "# Generate output\n",
    "for test_input in and_test_inputs:\n",
    "    linear_combination = and_weight1 * test_input[0] \\\n",
    "                            + and_weight2 * test_input[1] \\\n",
    "                            + and_bias\n",
    "    output = linear_combination >= 0\n",
    "    and_outputs.append(output)\n",
    "\n",
    "# Check output correctness\n",
    "if and_outputs == and_correct_outputs:\n",
    "    print('Nice!  You got it all correct.')\n",
    "else:\n",
    "    for index in range(len(and_outputs)):\n",
    "        if and_outputs[index] != and_correct_outputs[index]:\n",
    "            print(\"For the input {} your weights and bias \\\n",
    "produced an output of {}. The correct output is {}.\".format(\n",
    "                and_test_inputs[index],\n",
    "                and_outputs[index],\n",
    "                and_correct_outputs[index]\n",
    "            ))\n",
    "            break"
   ]
  },
  {
   "cell_type": "code",
   "execution_count": 2,
   "id": "52ba9824-5e94-4462-9653-ed2f6682706f",
   "metadata": {},
   "outputs": [
    {
     "name": "stdout",
     "output_type": "stream",
     "text": [
      "Nice!  You got it all correct.\n"
     ]
    }
   ],
   "source": [
    "# TODO: Set not_weight1, not_weight2, and not_bias\n",
    "not_weight1 = 0.0\n",
    "not_weight2 = -0.5\n",
    "not_bias = 0.1\n",
    "\n",
    "### Notebook grading\n",
    "\n",
    "# Inputs and outputs (True only if the second value is 0)\n",
    "not_test_inputs = [(0, 0), (0, 1), (1, 0), (1, 1)]\n",
    "not_correct_outputs = [True, False, True, False]\n",
    "not_outputs = []\n",
    "\n",
    "# Generate output\n",
    "for test_input in not_test_inputs:\n",
    "    linear_combination = not_weight1 * test_input[0] \\\n",
    "                            + not_weight2 * test_input[1] \\\n",
    "                            + not_bias\n",
    "    output = linear_combination >= 0\n",
    "    not_outputs.append(output)\n",
    "\n",
    "# Check output correctness\n",
    "if not_outputs == not_correct_outputs:\n",
    "    print('Nice!  You got it all correct.')\n",
    "else:\n",
    "    for index in range(len(not_outputs)):\n",
    "        if not_outputs[index] != not_correct_outputs[index]:\n",
    "            print(\"For the input {} your weights and bias \\\n",
    "produced an output of {}. The correct output is {}.\".format(\n",
    "                not_test_inputs[index],\n",
    "                not_outputs[index],\n",
    "                not_correct_outputs[index]\n",
    "            ))\n",
    "            break"
   ]
  },
  {
   "cell_type": "code",
   "execution_count": null,
   "id": "ef0d19fd-694b-4b4f-99a0-271ffc437f06",
   "metadata": {},
   "outputs": [],
   "source": []
  }
 ],
 "metadata": {
  "kernelspec": {
   "display_name": "Python 3 (ipykernel)",
   "language": "python",
   "name": "python3"
  },
  "language_info": {
   "codemirror_mode": {
    "name": "ipython",
    "version": 3
   },
   "file_extension": ".py",
   "mimetype": "text/x-python",
   "name": "python",
   "nbconvert_exporter": "python",
   "pygments_lexer": "ipython3",
   "version": "3.13.2"
  }
 },
 "nbformat": 4,
 "nbformat_minor": 5
}
