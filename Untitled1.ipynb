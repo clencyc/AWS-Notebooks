{
 "cells": [
  {
   "cell_type": "code",
   "execution_count": 1,
   "id": "14c51729-aaec-4ff5-893b-b8810a2f8ea9",
   "metadata": {},
   "outputs": [],
   "source": [
    "from math import sqrt\n",
    "\n",
    "def fibol(n):\n",
    "    if n == 0:\n",
    "        return 0\n",
    "    elif n == 1:\n",
    "        return 1\n",
    "    return fibol(n-1) + fibol(n-2)\n",
    "\n",
    "def fibo2(n):\n",
    "    return ((1+sqrt(5))**n-(1-sqrt(5))**n)/(2**n*sqrt(5))"
   ]
  },
  {
   "cell_type": "code",
   "execution_count": 4,
   "id": "558ec09a-1ab0-4746-923b-caf544796a30",
   "metadata": {},
   "outputs": [
    {
     "name": "stdout",
     "output_type": "stream",
     "text": [
      "1.35 ms ± 14.1 μs per loop (mean ± std. dev. of 7 runs, 1,000 loops each)\n"
     ]
    }
   ],
   "source": [
    "%timeit fibol(20)"
   ]
  },
  {
   "cell_type": "code",
   "execution_count": 6,
   "id": "8ea6d732-b08b-4d66-9f8d-f63d3d3db41e",
   "metadata": {},
   "outputs": [
    {
     "name": "stdout",
     "output_type": "stream",
     "text": [
      "513 ns ± 7.14 ns per loop (mean ± std. dev. of 7 runs, 1,000,000 loops each)\n"
     ]
    }
   ],
   "source": [
    "%timeit fibo2(20)"
   ]
  },
  {
   "cell_type": "code",
   "execution_count": 2,
   "id": "73f64462-da50-419d-a6cc-d2e8520b724b",
   "metadata": {},
   "outputs": [],
   "source": [
    "import random"
   ]
  },
  {
   "cell_type": "code",
   "execution_count": 3,
   "id": "76d41c89-6277-4b6d-a0cd-3c8c8f0d3717",
   "metadata": {},
   "outputs": [
    {
     "name": "stdout",
     "output_type": "stream",
     "text": [
      "47.7 μs ± 1.89 μs per loop (mean ± std. dev. of 7 runs, 10,000 loops each)\n"
     ]
    }
   ],
   "source": [
    "%%timeit\n",
    "prize = 0\n",
    "for ii in range(100):\n",
    "    roll = random.randint(1,6)\n",
    "    if roll%2 == 0:\n",
    "        prize += roll\n",
    "    else:\n",
    "        prize -= 1"
   ]
  },
  {
   "cell_type": "code",
   "execution_count": 4,
   "id": "ea3d5eb3-a661-4766-bd98-97605e6f467f",
   "metadata": {},
   "outputs": [
    {
     "name": "stdout",
     "output_type": "stream",
     "text": [
      "51.4 μs ± 2.63 μs per loop (mean ± std. dev. of 7 runs, 10,000 loops each)\n"
     ]
    }
   ],
   "source": [
    "%%timeit\n",
    "rolls = (random.randint(1,6) for _ in range(100))\n",
    "prize = sum(roll if roll%2 == 0 else -1 for roll in rolls)"
   ]
  },
  {
   "cell_type": "markdown",
   "id": "7b62d79f-fb0d-4d43-aafb-5b4ccaf26255",
   "metadata": {},
   "source": [
    "## Embedding visualizations in notebooks"
   ]
  },
  {
   "cell_type": "code",
   "execution_count": null,
   "id": "c4da757d-4706-442d-8f3d-2215aa57cb5e",
   "metadata": {},
   "outputs": [],
   "source": [
    "\n",
    "\n",
    "%matplotlib inline\n",
    "%config InlineBackend.figure_format = 'retina'\n",
    "\n",
    "import matplotlib.pyplot as plt\n",
    "import numpy as np"
   ]
  },
  {
   "cell_type": "code",
   "execution_count": null,
   "id": "1c290e8d-0ce9-4c60-8213-9a1c0a9319b7",
   "metadata": {},
   "outputs": [],
   "source": [
    "fig = plt.figure()\n",
    "fig, ax = plt.subplots()\n",
    "fig, axs = plt.subplots(2,2)\n",
    "\n",
    "fig, axs = plt.subplot_mosaic([['left', 'right_top'],\n",
    "                               ['left', 'right_bottom']])"
   ]
  },
  {
   "cell_type": "code",
   "execution_count": 8,
   "id": "264b8216-a736-4e27-8d77-e2d819e99d0e",
   "metadata": {},
   "outputs": [
    {
     "name": "stdout",
     "output_type": "stream",
     "text": [
      "Automatic pdb calling has been turned ON\n"
     ]
    }
   ],
   "source": [
    "%pdb"
   ]
  },
  {
   "cell_type": "code",
   "execution_count": null,
   "id": "bf4ce727-45eb-40d3-817b-e71d085fff56",
   "metadata": {},
   "outputs": [],
   "source": [
    "numbers = 'hello'\n",
    "sum(numbers)"
   ]
  },
  {
   "cell_type": "code",
   "execution_count": null,
   "id": "e68c06f2-9370-41f2-88e9-fdfc09f97b00",
   "metadata": {},
   "outputs": [],
   "source": [
    "numbers = [2, 4, 5, 2]\n",
    "sum(numbers)"
   ]
  },
  {
   "cell_type": "code",
   "execution_count": null,
   "id": "6b55a9a7-0305-446c-a9bc-b2858925eede",
   "metadata": {},
   "outputs": [],
   "source": []
  },
  {
   "cell_type": "code",
   "execution_count": null,
   "id": "60cb2304-eca7-46ef-b206-af2aac0fe488",
   "metadata": {},
   "outputs": [],
   "source": [
    "jupyter nbconvert notebook.ipynb --to slides\n"
   ]
  },
  {
   "cell_type": "code",
   "execution_count": null,
   "id": "2ec6b26e-a864-44a8-a27d-f6d81bc802bd",
   "metadata": {},
   "outputs": [],
   "source": []
  }
 ],
 "metadata": {
  "kernelspec": {
   "display_name": "Python 3 (ipykernel)",
   "language": "python",
   "name": "python3"
  },
  "language_info": {
   "codemirror_mode": {
    "name": "ipython",
    "version": 3
   },
   "file_extension": ".py",
   "mimetype": "text/x-python",
   "name": "python",
   "nbconvert_exporter": "python",
   "pygments_lexer": "ipython3",
   "version": "3.13.1"
  }
 },
 "nbformat": 4,
 "nbformat_minor": 5
}
