{
 "cells": [
  {
   "cell_type": "code",
   "execution_count": 2,
   "metadata": {},
   "outputs": [
    {
     "name": "stdout",
     "output_type": "stream",
     "text": [
      "My solution is this: `image_filenames[-3:]`\n",
      "This slice uses a negative index to begin slicing three elements from the end of the list. The end index can be omitted because this slice continues until the end of the list.\n"
     ]
    }
   ],
   "source": [
    "# Filenames of images\n",
    "image_filenames = ['img_001.jpg', 'img_002.jpg', 'img_003.jpg', 'img_004.jpg', 'img_005.jpg', 'img_006.jpg']\n",
    "\n",
    "# TODO: Replace None with appropriate code\n",
    "# Modify this code so it prints the filenames of the last three images\n",
    "last_three_filenames = image_filenames[3:6]\n",
    "print(last_three_filenames)\n",
    "### Notebook grading\n",
    "correct_answer = ['img_004.jpg', 'img_005.jpg', 'img_006.jpg']\n",
    "if last_three_filenames != correct_answer:\n",
    "    print(\"Double check your slicing! Your code should print a list of the last three filenames from the original list, and nothing else.\")\n",
    "else:\n",
    "    print('''My solution is this: `image_filenames[-3:]`\n",
    "This slice uses a negative index to begin slicing three elements from the end of the list. The end index can be omitted because this slice continues until the end of the list.''')\n"
   ]
  }
 ],
 "metadata": {
  "kernelspec": {
   "display_name": "venv",
   "language": "python",
   "name": "python3"
  },
  "language_info": {
   "codemirror_mode": {
    "name": "ipython",
    "version": 3
   },
   "file_extension": ".py",
   "mimetype": "text/x-python",
   "name": "python",
   "nbconvert_exporter": "python",
   "pygments_lexer": "ipython3",
   "version": "3.12.7"
  }
 },
 "nbformat": 4,
 "nbformat_minor": 2
}
