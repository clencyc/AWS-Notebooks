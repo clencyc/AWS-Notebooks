{
 "cells": [
  {
   "cell_type": "code",
   "execution_count": 2,
   "metadata": {},
   "outputs": [
    {
     "name": "stdout",
     "output_type": "stream",
     "text": [
      "True\n",
      "Nice work! I found is_palindrome like this: `image_classifications == image_classifications[::-1]`.\n"
     ]
    }
   ],
   "source": [
    "# Predicted classes of a series of images\n",
    "image_classifications = ['dog', 'cat', 'bird', 'cat', 'dog']\n",
    "\n",
    "# TODO: replace None with appropriate code\n",
    "# Use list slicing to reverse the list and check if it forms a palindrome\n",
    "is_palindrome = image_classifications == image_classifications[::-1]\n",
    "print(is_palindrome)\n",
    "\n",
    "### Notebook grading\n",
    "correct_answer = True\n",
    "if is_palindrome != correct_answer:\n",
    "    print(\"Not quite! Remember to use list slicing to reverse the list and check if it matches the original list.\")\n",
    "else:\n",
    "    print(\"Nice work! I found is_palindrome like this: `image_classifications == image_classifications[::-1]`.\")\n"
   ]
  },
  {
   "cell_type": "code",
   "execution_count": 5,
   "metadata": {},
   "outputs": [
    {
     "name": "stdout",
     "output_type": "stream",
     "text": [
      "4\n",
      "2\n"
     ]
    }
   ],
   "source": [
    "a = [1, 5, 8]\n",
    "b = [2, 6, 9, 10]\n",
    "c = [100, 200]\n",
    "print(max([len(a), len(b), len(c)]))\n",
    "print(min([len(a), len(b), len(c)]))"
   ]
  },
  {
   "cell_type": "code",
   "execution_count": 6,
   "metadata": {},
   "outputs": [
    {
     "name": "stdout",
     "output_type": "stream",
     "text": [
      "Albert & Ben & Carol & Donna\n"
     ]
    }
   ],
   "source": [
    "names = ['Carol', 'Albert', 'Ben', 'Donna']\n",
    "print(\" & \".join(sorted(names)))"
   ]
  },
  {
   "cell_type": "code",
   "execution_count": 9,
   "metadata": {},
   "outputs": [
    {
     "name": "stdout",
     "output_type": "stream",
     "text": [
      "a\n",
      "e\n",
      "d\n",
      "f\n",
      "b\n",
      "e\n",
      "g\n"
     ]
    }
   ],
   "source": [
    "arr = ['a', 'b', 'c', 'd', 'e', 'f', 'g']\n",
    "print(arr[0])\n",
    "print(arr[-3])\n",
    "print(arr[3])\n",
    "print(arr[-2])\n",
    "print(arr[1])\n",
    "print(arr[4])\n",
    "print(arr[len(arr) - 1])"
   ]
  },
  {
   "cell_type": "code",
   "execution_count": 1,
   "metadata": {},
   "outputs": [
    {
     "name": "stdout",
     "output_type": "stream",
     "text": [
      "Set Union Time: 0.0006718635559082031\n",
      "List Union Time: 0.0003695487976074219\n",
      "Set Intersection Time: 0.00011420249938964844\n",
      "List Intersection Time: 0.00021314620971679688\n",
      "Set Difference Time: 9.989738464355469e-05\n",
      "List Difference Time: 0.00017905235290527344\n"
     ]
    }
   ],
   "source": [
    "import time\n",
    "\n",
    "# Sample data\n",
    "set1 = set(range(1000))\n",
    "set2 = set(range(500, 1500))\n",
    "list1 = list(set1)\n",
    "list2 = list(set2)\n",
    "\n",
    "# Union\n",
    "start_time = time.time()\n",
    "union_set = set1.union(set2)\n",
    "print(\"Set Union Time:\", time.time() - start_time)\n",
    "\n",
    "start_time = time.time()\n",
    "union_list = list(set(list1 + list2))\n",
    "print(\"List Union Time:\", time.time() - start_time)\n",
    "\n",
    "# Intersection\n",
    "start_time = time.time()\n",
    "intersection_set = set1.intersection(set2)\n",
    "print(\"Set Intersection Time:\", time.time() - start_time)\n",
    "\n",
    "start_time = time.time()\n",
    "intersection_list = [x for x in list1 if x in set2]\n",
    "print(\"List Intersection Time:\", time.time() - start_time)\n",
    "\n",
    "# Difference\n",
    "start_time = time.time()\n",
    "difference_set = set1.difference(set2)\n",
    "print(\"Set Difference Time:\", time.time() - start_time)\n",
    "\n",
    "start_time = time.time()\n",
    "difference_list = [x for x in list1 if x not in set2]\n",
    "print(\"List Difference Time:\", time.time() - start_time)"
   ]
  }
 ],
 "metadata": {
  "kernelspec": {
   "display_name": "venv",
   "language": "python",
   "name": "python3"
  },
  "language_info": {
   "codemirror_mode": {
    "name": "ipython",
    "version": 3
   },
   "file_extension": ".py",
   "mimetype": "text/x-python",
   "name": "python",
   "nbconvert_exporter": "python",
   "pygments_lexer": "ipython3",
   "version": "3.12.7"
  }
 },
 "nbformat": 4,
 "nbformat_minor": 2
}
