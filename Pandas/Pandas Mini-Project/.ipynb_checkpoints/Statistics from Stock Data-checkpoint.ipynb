{
 "cells": [
  {
   "cell_type": "markdown",
   "metadata": {},
   "source": [
    "# Statistics from Stock Data\n",
    "\n",
    "In this lab we will load stock data into a Pandas Dataframe and calculate some statistics on it. We will be working with stock data from Google, Apple, and Amazon. All the stock data was downloaded from yahoo finance in CSV format. In your workspace you should have a file named GOOG.csv containing the Google stock data, a file named AAPL.csv containing the Apple stock data, and a file  named AMZN.csv containing the Amazon stock data. All the files contain 7 columns of data:\n",
    "\n",
    "**Date Open High Low Close Adj_Close Volume**\n",
    "\n",
    "We will start by reading in any of the above CSV files into a DataFrame and see what the data looks like."
   ]
  },
  {
   "cell_type": "code",
   "execution_count": 3,
   "metadata": {},
   "outputs": [
    {
     "data": {
      "text/html": [
       "<div>\n",
       "<style scoped>\n",
       "    .dataframe tbody tr th:only-of-type {\n",
       "        vertical-align: middle;\n",
       "    }\n",
       "\n",
       "    .dataframe tbody tr th {\n",
       "        vertical-align: top;\n",
       "    }\n",
       "\n",
       "    .dataframe thead th {\n",
       "        text-align: right;\n",
       "    }\n",
       "</style>\n",
       "<table border=\"1\" class=\"dataframe\">\n",
       "  <thead>\n",
       "    <tr style=\"text-align: right;\">\n",
       "      <th></th>\n",
       "      <th>Date</th>\n",
       "      <th>High</th>\n",
       "      <th>Low</th>\n",
       "      <th>Open</th>\n",
       "      <th>Close</th>\n",
       "      <th>Volume</th>\n",
       "      <th>Adj Close</th>\n",
       "    </tr>\n",
       "  </thead>\n",
       "  <tbody>\n",
       "    <tr>\n",
       "      <th>0</th>\n",
       "      <td>2004-08-23</td>\n",
       "      <td>56.528118</td>\n",
       "      <td>54.321388</td>\n",
       "      <td>55.168217</td>\n",
       "      <td>54.495735</td>\n",
       "      <td>18342897.0</td>\n",
       "      <td>54.495735</td>\n",
       "    </tr>\n",
       "    <tr>\n",
       "      <th>1</th>\n",
       "      <td>2004-08-24</td>\n",
       "      <td>55.591629</td>\n",
       "      <td>51.591621</td>\n",
       "      <td>55.412300</td>\n",
       "      <td>52.239197</td>\n",
       "      <td>15319808.0</td>\n",
       "      <td>52.239197</td>\n",
       "    </tr>\n",
       "    <tr>\n",
       "      <th>2</th>\n",
       "      <td>2004-08-25</td>\n",
       "      <td>53.798351</td>\n",
       "      <td>51.746044</td>\n",
       "      <td>52.284027</td>\n",
       "      <td>52.802086</td>\n",
       "      <td>9232276.0</td>\n",
       "      <td>52.802086</td>\n",
       "    </tr>\n",
       "    <tr>\n",
       "      <th>3</th>\n",
       "      <td>2004-08-26</td>\n",
       "      <td>53.773445</td>\n",
       "      <td>52.134586</td>\n",
       "      <td>52.279045</td>\n",
       "      <td>53.753517</td>\n",
       "      <td>7128620.0</td>\n",
       "      <td>53.753517</td>\n",
       "    </tr>\n",
       "    <tr>\n",
       "      <th>4</th>\n",
       "      <td>2004-08-27</td>\n",
       "      <td>54.107193</td>\n",
       "      <td>52.647663</td>\n",
       "      <td>53.848164</td>\n",
       "      <td>52.876804</td>\n",
       "      <td>6241307.0</td>\n",
       "      <td>52.876804</td>\n",
       "    </tr>\n",
       "  </tbody>\n",
       "</table>\n",
       "</div>"
      ],
      "text/plain": [
       "         Date       High        Low       Open      Close      Volume  \\\n",
       "0  2004-08-23  56.528118  54.321388  55.168217  54.495735  18342897.0   \n",
       "1  2004-08-24  55.591629  51.591621  55.412300  52.239197  15319808.0   \n",
       "2  2004-08-25  53.798351  51.746044  52.284027  52.802086   9232276.0   \n",
       "3  2004-08-26  53.773445  52.134586  52.279045  53.753517   7128620.0   \n",
       "4  2004-08-27  54.107193  52.647663  53.848164  52.876804   6241307.0   \n",
       "\n",
       "   Adj Close  \n",
       "0  54.495735  \n",
       "1  52.239197  \n",
       "2  52.802086  \n",
       "3  53.753517  \n",
       "4  52.876804  "
      ]
     },
     "execution_count": 3,
     "metadata": {},
     "output_type": "execute_result"
    }
   ],
   "source": [
    "# We import pandas into Python\n",
    "import pandas as pd\n",
    "\n",
    "# We read in a stock data data file into a data frame and see what it looks like\n",
    "data = pd.read_csv('./GOOG.csv')\n",
    "\n",
    "# We display the first 5 rows of the DataFrame\n",
    "data.head(5)"
   ]
  },
  {
   "cell_type": "markdown",
   "metadata": {},
   "source": [
    "We clearly see that the Dataframe is has automatically labeled the row indices using integers and has labeled the columns of the DataFrame using the names of the columns in the CSV files.\n",
    "\n",
    "# To Do\n",
    "\n",
    "You will now load the stock data from Google, Apple, and Amazon into separte DataFrames. However, for each stock data you will only be interested in loading the `Date` and `Adj Close` columns into the Dataframe. In addtion, you want to use the `Date` column as your row index. Finally, you want the DataFrame to recognize the dates as actual dates (year/month/day) and not as strings. For each stock, you can accomplish all theses things in just one line of code by using the appropiate keywords in the `pd.read_csv()` function. Here are a few hints:\n",
    "\n",
    "* Use the `index_col` keyword to indicate which column you want to use as an index. For example `index_col = ['Open']`\n",
    "\n",
    "* Set the `parse_dates` keyword equal to `True` to convert the Dates into real dates of the form year/month/day\n",
    "\n",
    "* Use the `usecols` keyword to select which columns you want to load into the DataFrame. For example `usecols = ['Open', 'High']`\n",
    "\n",
    "Fill in the code below:"
   ]
  },
  {
   "cell_type": "code",
   "execution_count": 4,
   "metadata": {},
   "outputs": [],
   "source": [
    "    # We load the Google stock data into a DataFrame\n",
    "google_stock = pd.read_csv('./GOOG.csv',usecols=['Date', 'Adj Close'], index_col=['Date'], parse_dates=True )\n",
    "\n",
    "# We load the Apple stock data into a DataFrame\n",
    "apple_stock = pd.read_csv('./AAPL.csv', usecols=['Date', 'Adj Close'], index_col=['Date'], parse_dates=True )\n",
    "                       \n",
    "# We load the Amazon stock data into a DataFrame\n",
    "amazon_stock = pd.read_csv('./AMZN.csv', usecols=['Date', 'Adj Close'], index_col=['Date'], parse_dates=True )          "
   ]
  },
  {
   "cell_type": "markdown",
   "metadata": {},
   "source": [
    "You can check that you have loaded the data correctly by displaying the head of the DataFrames."
   ]
  },
  {
   "cell_type": "code",
   "execution_count": 5,
   "metadata": {},
   "outputs": [
    {
     "data": {
      "text/html": [
       "<div>\n",
       "<style scoped>\n",
       "    .dataframe tbody tr th:only-of-type {\n",
       "        vertical-align: middle;\n",
       "    }\n",
       "\n",
       "    .dataframe tbody tr th {\n",
       "        vertical-align: top;\n",
       "    }\n",
       "\n",
       "    .dataframe thead th {\n",
       "        text-align: right;\n",
       "    }\n",
       "</style>\n",
       "<table border=\"1\" class=\"dataframe\">\n",
       "  <thead>\n",
       "    <tr style=\"text-align: right;\">\n",
       "      <th></th>\n",
       "      <th>Adj Close</th>\n",
       "    </tr>\n",
       "    <tr>\n",
       "      <th>Date</th>\n",
       "      <th></th>\n",
       "    </tr>\n",
       "  </thead>\n",
       "  <tbody>\n",
       "    <tr>\n",
       "      <th>2004-08-23</th>\n",
       "      <td>54.495735</td>\n",
       "    </tr>\n",
       "    <tr>\n",
       "      <th>2004-08-24</th>\n",
       "      <td>52.239197</td>\n",
       "    </tr>\n",
       "    <tr>\n",
       "      <th>2004-08-25</th>\n",
       "      <td>52.802086</td>\n",
       "    </tr>\n",
       "    <tr>\n",
       "      <th>2004-08-26</th>\n",
       "      <td>53.753517</td>\n",
       "    </tr>\n",
       "    <tr>\n",
       "      <th>2004-08-27</th>\n",
       "      <td>52.876804</td>\n",
       "    </tr>\n",
       "  </tbody>\n",
       "</table>\n",
       "</div>"
      ],
      "text/plain": [
       "            Adj Close\n",
       "Date                 \n",
       "2004-08-23  54.495735\n",
       "2004-08-24  52.239197\n",
       "2004-08-25  52.802086\n",
       "2004-08-26  53.753517\n",
       "2004-08-27  52.876804"
      ]
     },
     "execution_count": 5,
     "metadata": {},
     "output_type": "execute_result"
    }
   ],
   "source": [
    "# We display the google_stock DataFrame\n",
    "google_stock.head(5)"
   ]
  },
  {
   "cell_type": "markdown",
   "metadata": {},
   "source": [
    "You will now join the three DataFrames above to create a single new DataFrame that contains all the `Adj Close` for all the stocks. Let's start by creating an empty DataFrame that has as row indices calendar days between `2000-01-01`  and `2016-12-31`. We will use the `pd.date_range()` function to create the calendar dates first and then we will create a DataFrame that uses those dates as row indices:"
   ]
  },
  {
   "cell_type": "code",
   "execution_count": 11,
   "metadata": {},
   "outputs": [
    {
     "data": {
      "text/html": [
       "<div>\n",
       "<style scoped>\n",
       "    .dataframe tbody tr th:only-of-type {\n",
       "        vertical-align: middle;\n",
       "    }\n",
       "\n",
       "    .dataframe tbody tr th {\n",
       "        vertical-align: top;\n",
       "    }\n",
       "\n",
       "    .dataframe thead th {\n",
       "        text-align: right;\n",
       "    }\n",
       "</style>\n",
       "<table border=\"1\" class=\"dataframe\">\n",
       "  <thead>\n",
       "    <tr style=\"text-align: right;\">\n",
       "      <th></th>\n",
       "    </tr>\n",
       "  </thead>\n",
       "  <tbody>\n",
       "    <tr>\n",
       "      <th>2000-01-01</th>\n",
       "    </tr>\n",
       "    <tr>\n",
       "      <th>2000-01-02</th>\n",
       "    </tr>\n",
       "    <tr>\n",
       "      <th>2000-01-03</th>\n",
       "    </tr>\n",
       "    <tr>\n",
       "      <th>2000-01-04</th>\n",
       "    </tr>\n",
       "    <tr>\n",
       "      <th>2000-01-05</th>\n",
       "    </tr>\n",
       "    <tr>\n",
       "      <th>...</th>\n",
       "    </tr>\n",
       "    <tr>\n",
       "      <th>2016-12-27</th>\n",
       "    </tr>\n",
       "    <tr>\n",
       "      <th>2016-12-28</th>\n",
       "    </tr>\n",
       "    <tr>\n",
       "      <th>2016-12-29</th>\n",
       "    </tr>\n",
       "    <tr>\n",
       "      <th>2016-12-30</th>\n",
       "    </tr>\n",
       "    <tr>\n",
       "      <th>2016-12-31</th>\n",
       "    </tr>\n",
       "  </tbody>\n",
       "</table>\n",
       "<p>6210 rows × 0 columns</p>\n",
       "</div>"
      ],
      "text/plain": [
       "Empty DataFrame\n",
       "Columns: []\n",
       "Index: [2000-01-01 00:00:00, 2000-01-02 00:00:00, 2000-01-03 00:00:00, 2000-01-04 00:00:00, 2000-01-05 00:00:00, 2000-01-06 00:00:00, 2000-01-07 00:00:00, 2000-01-08 00:00:00, 2000-01-09 00:00:00, 2000-01-10 00:00:00, 2000-01-11 00:00:00, 2000-01-12 00:00:00, 2000-01-13 00:00:00, 2000-01-14 00:00:00, 2000-01-15 00:00:00, 2000-01-16 00:00:00, 2000-01-17 00:00:00, 2000-01-18 00:00:00, 2000-01-19 00:00:00, 2000-01-20 00:00:00, 2000-01-21 00:00:00, 2000-01-22 00:00:00, 2000-01-23 00:00:00, 2000-01-24 00:00:00, 2000-01-25 00:00:00, 2000-01-26 00:00:00, 2000-01-27 00:00:00, 2000-01-28 00:00:00, 2000-01-29 00:00:00, 2000-01-30 00:00:00, 2000-01-31 00:00:00, 2000-02-01 00:00:00, 2000-02-02 00:00:00, 2000-02-03 00:00:00, 2000-02-04 00:00:00, 2000-02-05 00:00:00, 2000-02-06 00:00:00, 2000-02-07 00:00:00, 2000-02-08 00:00:00, 2000-02-09 00:00:00, 2000-02-10 00:00:00, 2000-02-11 00:00:00, 2000-02-12 00:00:00, 2000-02-13 00:00:00, 2000-02-14 00:00:00, 2000-02-15 00:00:00, 2000-02-16 00:00:00, 2000-02-17 00:00:00, 2000-02-18 00:00:00, 2000-02-19 00:00:00, 2000-02-20 00:00:00, 2000-02-21 00:00:00, 2000-02-22 00:00:00, 2000-02-23 00:00:00, 2000-02-24 00:00:00, 2000-02-25 00:00:00, 2000-02-26 00:00:00, 2000-02-27 00:00:00, 2000-02-28 00:00:00, 2000-02-29 00:00:00, 2000-03-01 00:00:00, 2000-03-02 00:00:00, 2000-03-03 00:00:00, 2000-03-04 00:00:00, 2000-03-05 00:00:00, 2000-03-06 00:00:00, 2000-03-07 00:00:00, 2000-03-08 00:00:00, 2000-03-09 00:00:00, 2000-03-10 00:00:00, 2000-03-11 00:00:00, 2000-03-12 00:00:00, 2000-03-13 00:00:00, 2000-03-14 00:00:00, 2000-03-15 00:00:00, 2000-03-16 00:00:00, 2000-03-17 00:00:00, 2000-03-18 00:00:00, 2000-03-19 00:00:00, 2000-03-20 00:00:00, 2000-03-21 00:00:00, 2000-03-22 00:00:00, 2000-03-23 00:00:00, 2000-03-24 00:00:00, 2000-03-25 00:00:00, 2000-03-26 00:00:00, 2000-03-27 00:00:00, 2000-03-28 00:00:00, 2000-03-29 00:00:00, 2000-03-30 00:00:00, 2000-03-31 00:00:00, 2000-04-01 00:00:00, 2000-04-02 00:00:00, 2000-04-03 00:00:00, 2000-04-04 00:00:00, 2000-04-05 00:00:00, 2000-04-06 00:00:00, 2000-04-07 00:00:00, 2000-04-08 00:00:00, 2000-04-09 00:00:00, ...]\n",
       "\n",
       "[6210 rows x 0 columns]"
      ]
     },
     "execution_count": 11,
     "metadata": {},
     "output_type": "execute_result"
    }
   ],
   "source": [
    "# We create calendar dates between '2000-01-01' and  '2016-12-31'\n",
    "dates = pd.date_range('2000-01-01', '2016-12-31')\n",
    "date_range = pd.date_range(start='2000-01-01', end='2016-12-31', freq='D')\n",
    "# We create and empty DataFrame that uses the above dates as indices\n",
    "all_stocks = pd.DataFrame(index = dates)\n",
    "\n",
    "# Create an empty DataFrame with the date range as the index\n",
    "calendar_df = pd.DataFrame(index=date_range)\n",
    "\n",
    "calendar_df"
   ]
  },
  {
   "cell_type": "markdown",
   "metadata": {},
   "source": [
    "# To Do\n",
    "\n",
    "You will now join the the individual DataFrames, `google_stock`, `apple_stock`, and `amazon_stock`, to the `all_stocks` DataFrame. However, before you do this, it is necessary that you change the name of the columns in each of the three dataframes. This is because the column labels in the `all_stocks` dataframe must be unique. Since all the columns in the individual dataframes have the same name, `Adj Close`, we must change them to the stock name before joining them. In the space below change the column label `Adj Close` of each individual dataframe to the name of the corresponding stock. You can do this by using the `pd.DataFrame.rename()` function. "
   ]
  },
  {
   "cell_type": "code",
   "execution_count": 13,
   "metadata": {},
   "outputs": [],
   "source": [
    "# Change the Adj Close column label to Google\n",
    "google_stock = google_stock.rename(columns={'Adj Close': 'Google'})\n",
    "# Rename 'Adj Close' to the stock name\n",
    "\n",
    "# Change the Adj Close column label to Apple\n",
    "apple_stock = apple_stock.rename(columns={'Adj Close': 'Apple'})\n",
    "\n",
    "# Change the Adj Close column label to Amazon\n",
    "amazon_stock =  amazon_stock.rename(columns={'Adj Close': 'Amazon'})\n"
   ]
  },
  {
   "cell_type": "markdown",
   "metadata": {},
   "source": [
    "You can check that the column labels have been changed correctly by displaying the datadrames"
   ]
  },
  {
   "cell_type": "code",
   "execution_count": 14,
   "metadata": {},
   "outputs": [
    {
     "data": {
      "text/html": [
       "<div>\n",
       "<style scoped>\n",
       "    .dataframe tbody tr th:only-of-type {\n",
       "        vertical-align: middle;\n",
       "    }\n",
       "\n",
       "    .dataframe tbody tr th {\n",
       "        vertical-align: top;\n",
       "    }\n",
       "\n",
       "    .dataframe thead th {\n",
       "        text-align: right;\n",
       "    }\n",
       "</style>\n",
       "<table border=\"1\" class=\"dataframe\">\n",
       "  <thead>\n",
       "    <tr style=\"text-align: right;\">\n",
       "      <th></th>\n",
       "      <th>Google</th>\n",
       "    </tr>\n",
       "    <tr>\n",
       "      <th>Date</th>\n",
       "      <th></th>\n",
       "    </tr>\n",
       "  </thead>\n",
       "  <tbody>\n",
       "    <tr>\n",
       "      <th>2004-08-23</th>\n",
       "      <td>54.495735</td>\n",
       "    </tr>\n",
       "    <tr>\n",
       "      <th>2004-08-24</th>\n",
       "      <td>52.239197</td>\n",
       "    </tr>\n",
       "    <tr>\n",
       "      <th>2004-08-25</th>\n",
       "      <td>52.802086</td>\n",
       "    </tr>\n",
       "    <tr>\n",
       "      <th>2004-08-26</th>\n",
       "      <td>53.753517</td>\n",
       "    </tr>\n",
       "    <tr>\n",
       "      <th>2004-08-27</th>\n",
       "      <td>52.876804</td>\n",
       "    </tr>\n",
       "    <tr>\n",
       "      <th>...</th>\n",
       "      <td>...</td>\n",
       "    </tr>\n",
       "    <tr>\n",
       "      <th>2020-12-24</th>\n",
       "      <td>1738.849976</td>\n",
       "    </tr>\n",
       "    <tr>\n",
       "      <th>2020-12-28</th>\n",
       "      <td>1776.089966</td>\n",
       "    </tr>\n",
       "    <tr>\n",
       "      <th>2020-12-29</th>\n",
       "      <td>1758.719971</td>\n",
       "    </tr>\n",
       "    <tr>\n",
       "      <th>2020-12-30</th>\n",
       "      <td>1739.520020</td>\n",
       "    </tr>\n",
       "    <tr>\n",
       "      <th>2020-12-31</th>\n",
       "      <td>1751.880005</td>\n",
       "    </tr>\n",
       "  </tbody>\n",
       "</table>\n",
       "<p>4120 rows × 1 columns</p>\n",
       "</div>"
      ],
      "text/plain": [
       "                 Google\n",
       "Date                   \n",
       "2004-08-23    54.495735\n",
       "2004-08-24    52.239197\n",
       "2004-08-25    52.802086\n",
       "2004-08-26    53.753517\n",
       "2004-08-27    52.876804\n",
       "...                 ...\n",
       "2020-12-24  1738.849976\n",
       "2020-12-28  1776.089966\n",
       "2020-12-29  1758.719971\n",
       "2020-12-30  1739.520020\n",
       "2020-12-31  1751.880005\n",
       "\n",
       "[4120 rows x 1 columns]"
      ]
     },
     "execution_count": 14,
     "metadata": {},
     "output_type": "execute_result"
    }
   ],
   "source": [
    "# We display the google_stock DataFrame\n",
    "google_stock"
   ]
  },
  {
   "cell_type": "code",
   "execution_count": 15,
   "metadata": {},
   "outputs": [
    {
     "data": {
      "text/html": [
       "<div>\n",
       "<style scoped>\n",
       "    .dataframe tbody tr th:only-of-type {\n",
       "        vertical-align: middle;\n",
       "    }\n",
       "\n",
       "    .dataframe tbody tr th {\n",
       "        vertical-align: top;\n",
       "    }\n",
       "\n",
       "    .dataframe thead th {\n",
       "        text-align: right;\n",
       "    }\n",
       "</style>\n",
       "<table border=\"1\" class=\"dataframe\">\n",
       "  <thead>\n",
       "    <tr style=\"text-align: right;\">\n",
       "      <th></th>\n",
       "      <th>Apple</th>\n",
       "    </tr>\n",
       "    <tr>\n",
       "      <th>Date</th>\n",
       "      <th></th>\n",
       "    </tr>\n",
       "  </thead>\n",
       "  <tbody>\n",
       "    <tr>\n",
       "      <th>2014-09-29</th>\n",
       "      <td>93.514290</td>\n",
       "    </tr>\n",
       "    <tr>\n",
       "      <th>2014-10-06</th>\n",
       "      <td>94.556244</td>\n",
       "    </tr>\n",
       "    <tr>\n",
       "      <th>2014-10-13</th>\n",
       "      <td>91.683792</td>\n",
       "    </tr>\n",
       "    <tr>\n",
       "      <th>2014-10-20</th>\n",
       "      <td>98.771042</td>\n",
       "    </tr>\n",
       "    <tr>\n",
       "      <th>2014-10-27</th>\n",
       "      <td>101.380676</td>\n",
       "    </tr>\n",
       "    <tr>\n",
       "      <th>...</th>\n",
       "      <td>...</td>\n",
       "    </tr>\n",
       "    <tr>\n",
       "      <th>2018-03-05</th>\n",
       "      <td>179.979996</td>\n",
       "    </tr>\n",
       "    <tr>\n",
       "      <th>2018-03-12</th>\n",
       "      <td>178.020004</td>\n",
       "    </tr>\n",
       "    <tr>\n",
       "      <th>2018-03-19</th>\n",
       "      <td>164.940002</td>\n",
       "    </tr>\n",
       "    <tr>\n",
       "      <th>2018-03-26</th>\n",
       "      <td>167.779999</td>\n",
       "    </tr>\n",
       "    <tr>\n",
       "      <th>2018-03-29</th>\n",
       "      <td>167.779999</td>\n",
       "    </tr>\n",
       "  </tbody>\n",
       "</table>\n",
       "<p>184 rows × 1 columns</p>\n",
       "</div>"
      ],
      "text/plain": [
       "                 Apple\n",
       "Date                  \n",
       "2014-09-29   93.514290\n",
       "2014-10-06   94.556244\n",
       "2014-10-13   91.683792\n",
       "2014-10-20   98.771042\n",
       "2014-10-27  101.380676\n",
       "...                ...\n",
       "2018-03-05  179.979996\n",
       "2018-03-12  178.020004\n",
       "2018-03-19  164.940002\n",
       "2018-03-26  167.779999\n",
       "2018-03-29  167.779999\n",
       "\n",
       "[184 rows x 1 columns]"
      ]
     },
     "execution_count": 15,
     "metadata": {},
     "output_type": "execute_result"
    }
   ],
   "source": [
    "# We display the apple_stock DataFrame\n",
    "apple_stock"
   ]
  },
  {
   "cell_type": "code",
   "execution_count": 16,
   "metadata": {},
   "outputs": [
    {
     "data": {
      "text/html": [
       "<div>\n",
       "<style scoped>\n",
       "    .dataframe tbody tr th:only-of-type {\n",
       "        vertical-align: middle;\n",
       "    }\n",
       "\n",
       "    .dataframe tbody tr th {\n",
       "        vertical-align: top;\n",
       "    }\n",
       "\n",
       "    .dataframe thead th {\n",
       "        text-align: right;\n",
       "    }\n",
       "</style>\n",
       "<table border=\"1\" class=\"dataframe\">\n",
       "  <thead>\n",
       "    <tr style=\"text-align: right;\">\n",
       "      <th></th>\n",
       "      <th>Amazon</th>\n",
       "    </tr>\n",
       "    <tr>\n",
       "      <th>Date</th>\n",
       "      <th></th>\n",
       "    </tr>\n",
       "  </thead>\n",
       "  <tbody>\n",
       "    <tr>\n",
       "      <th>1997-05-15</th>\n",
       "      <td>0.097917</td>\n",
       "    </tr>\n",
       "    <tr>\n",
       "      <th>1997-05-16</th>\n",
       "      <td>0.086458</td>\n",
       "    </tr>\n",
       "    <tr>\n",
       "      <th>1997-05-19</th>\n",
       "      <td>0.085417</td>\n",
       "    </tr>\n",
       "    <tr>\n",
       "      <th>1997-05-20</th>\n",
       "      <td>0.081771</td>\n",
       "    </tr>\n",
       "    <tr>\n",
       "      <th>1997-05-21</th>\n",
       "      <td>0.071354</td>\n",
       "    </tr>\n",
       "    <tr>\n",
       "      <th>...</th>\n",
       "      <td>...</td>\n",
       "    </tr>\n",
       "    <tr>\n",
       "      <th>2023-11-29</th>\n",
       "      <td>146.320007</td>\n",
       "    </tr>\n",
       "    <tr>\n",
       "      <th>2023-11-30</th>\n",
       "      <td>146.089996</td>\n",
       "    </tr>\n",
       "    <tr>\n",
       "      <th>2023-12-01</th>\n",
       "      <td>147.029999</td>\n",
       "    </tr>\n",
       "    <tr>\n",
       "      <th>2023-12-04</th>\n",
       "      <td>144.839996</td>\n",
       "    </tr>\n",
       "    <tr>\n",
       "      <th>2023-12-05</th>\n",
       "      <td>146.880005</td>\n",
       "    </tr>\n",
       "  </tbody>\n",
       "</table>\n",
       "<p>6684 rows × 1 columns</p>\n",
       "</div>"
      ],
      "text/plain": [
       "                Amazon\n",
       "Date                  \n",
       "1997-05-15    0.097917\n",
       "1997-05-16    0.086458\n",
       "1997-05-19    0.085417\n",
       "1997-05-20    0.081771\n",
       "1997-05-21    0.071354\n",
       "...                ...\n",
       "2023-11-29  146.320007\n",
       "2023-11-30  146.089996\n",
       "2023-12-01  147.029999\n",
       "2023-12-04  144.839996\n",
       "2023-12-05  146.880005\n",
       "\n",
       "[6684 rows x 1 columns]"
      ]
     },
     "execution_count": 16,
     "metadata": {},
     "output_type": "execute_result"
    }
   ],
   "source": [
    "# We display the amazon_stock DataFrame\n",
    "amazon_stock"
   ]
  },
  {
   "cell_type": "markdown",
   "metadata": {},
   "source": [
    "Now that we have unique column labels, we can join the individual DataFrames to the `all_stocks` DataFrame. For this we will use the `dataframe.join()` function. The function `dataframe1.join(dataframe2)` joins `dataframe1` with `dataframe2`. We will join each dataframe one by one to the `all_stocks` dataframe. Fill in the code below to join the dataframes, the first join has been made for you:"
   ]
  },
  {
   "cell_type": "code",
   "execution_count": null,
   "metadata": {},
   "outputs": [],
   "source": [
    "# We join the Google stock to all_stocks\n",
    "all_stocks = all_stocks.join(google_stock)\n",
    "\n",
    "# We join the Apple stock to all_stocks\n",
    "all_stocks = all_stocks.join(apple_stock)\n",
    "\n",
    "# We join the Amazon stock to all_stocks\n",
    "all_stocks = all_stocks.join(amazon_stock)"
   ]
  },
  {
   "cell_type": "markdown",
   "metadata": {},
   "source": [
    "You can check that the dataframes have been joined correctly by displaying the `all_stocks`  dataframe"
   ]
  },
  {
   "cell_type": "code",
   "execution_count": null,
   "metadata": {},
   "outputs": [],
   "source": [
    "# We display the all_stocks DataFrame\n"
   ]
  },
  {
   "cell_type": "markdown",
   "metadata": {},
   "source": [
    "# To Do\n",
    "\n",
    "Before we proceed to get some statistics on the stock data, let's first check that we don't have any *NaN* values. In the space below check if there are any *NaN* values in the `all_stocks`  dataframe. If there are any, remove any rows that have *NaN* values:"
   ]
  },
  {
   "cell_type": "code",
   "execution_count": null,
   "metadata": {},
   "outputs": [],
   "source": [
    "# Check if there are any NaN values in the all_stocks dataframe\n"
   ]
  },
  {
   "cell_type": "code",
   "execution_count": null,
   "metadata": {},
   "outputs": [],
   "source": [
    "# Remove any rows that contain NaN values\n"
   ]
  },
  {
   "cell_type": "markdown",
   "metadata": {},
   "source": [
    "You can check that the *NaN* values have been eliminated by displaying the `all_stocks`  dataframe"
   ]
  },
  {
   "cell_type": "code",
   "execution_count": null,
   "metadata": {},
   "outputs": [],
   "source": [
    "# Check if there are any NaN values in the all_stocks dataframe\n"
   ]
  },
  {
   "cell_type": "markdown",
   "metadata": {},
   "source": [
    "Display the `all_stocks`  dataframe and verify that there are no *NaN* values "
   ]
  },
  {
   "cell_type": "code",
   "execution_count": null,
   "metadata": {},
   "outputs": [],
   "source": [
    "# We display the all_stocks DataFrame\n"
   ]
  },
  {
   "cell_type": "markdown",
   "metadata": {},
   "source": [
    "Now that you have eliminated any *NaN* values we can now calculate some basic statistics on the stock prices. Fill in the code below"
   ]
  },
  {
   "cell_type": "code",
   "execution_count": null,
   "metadata": {},
   "outputs": [],
   "source": [
    "# Print the average stock price for each stock\n",
    "\n",
    "\n",
    "# Print the median stock price for each stock\n",
    "\n",
    "\n",
    "# Print the standard deviation of the stock price for each stock  \n",
    "\n",
    "\n",
    "# Print the correlation between stocks\n"
   ]
  },
  {
   "cell_type": "markdown",
   "metadata": {},
   "source": [
    "We will now look at how we can compute some rolling statistics, also known as moving statistics. We can calculate for example the rolling mean (moving average) of the Google stock price by using the Pandas `dataframe.rolling().mean()` method. The `dataframe.rolling(N).mean()` calculates the rolling mean over an `N`-day window. In other words, we can take a look at the average stock price every `N`  days using the above method. Fill in the code below to calculate the average stock price every 150 days for Google stock"
   ]
  },
  {
   "cell_type": "code",
   "execution_count": null,
   "metadata": {},
   "outputs": [],
   "source": [
    "# We compute the rolling mean using a 150-Day window for Google stock\n",
    "rollingMean = "
   ]
  },
  {
   "cell_type": "markdown",
   "metadata": {},
   "source": [
    "We can also visualize the rolling mean by plotting the data in our dataframe. In the following lessons you will learn how to use **Matplotlib** to visualize data. For now I will just import matplotlib and plot the Google stock data on top of the rolling mean. You can play around by changing the rolling mean window and see how the plot changes. "
   ]
  },
  {
   "cell_type": "code",
   "execution_count": null,
   "metadata": {},
   "outputs": [],
   "source": [
    "%matplotlib inline\n",
    "\n",
    "# We import matplotlib into Python\n",
    "import matplotlib.pyplot as plt\n",
    "\n",
    "# We plot the Google stock data\n",
    "plt.plot(all_stocks['Google'])\n",
    "\n",
    "# We plot the rolling mean ontop of our Google stock data\n",
    "plt.plot(rollingMean)\n",
    "plt.legend(['Google Stock Price', 'Rolling Mean'])\n",
    "plt.show()"
   ]
  },
  {
   "cell_type": "code",
   "execution_count": null,
   "metadata": {},
   "outputs": [],
   "source": []
  }
 ],
 "metadata": {
  "kernelspec": {
   "display_name": "Python 3 (ipykernel)",
   "language": "python",
   "name": "python3"
  },
  "language_info": {
   "codemirror_mode": {
    "name": "ipython",
    "version": 3
   },
   "file_extension": ".py",
   "mimetype": "text/x-python",
   "name": "python",
   "nbconvert_exporter": "python",
   "pygments_lexer": "ipython3",
   "version": "3.13.1"
  }
 },
 "nbformat": 4,
 "nbformat_minor": 4
}
