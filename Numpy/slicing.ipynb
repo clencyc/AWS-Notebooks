{
 "cells": [
  {
   "cell_type": "code",
   "execution_count": 1,
   "id": "a9a0fd62-11b8-4256-9d51-ba843a75b07b",
   "metadata": {},
   "outputs": [],
   "source": [
    "import numpy as np"
   ]
  },
  {
   "cell_type": "code",
   "execution_count": 2,
   "id": "43183c0f-86c5-4b4b-a8e7-6b587ae5b0db",
   "metadata": {},
   "outputs": [
    {
     "name": "stdout",
     "output_type": "stream",
     "text": [
      "[[ 1  2  3  4  5]\n",
      " [ 6  7  8  9 10]\n",
      " [11 12 13 14 15]\n",
      " [16 17 18 19 20]]\n"
     ]
    }
   ],
   "source": [
    "x = np.arange(1, 21).reshape(4, 5)\n",
    "print(x)"
   ]
  },
  {
   "cell_type": "code",
   "execution_count": 4,
   "id": "92231730-051e-410e-b2cf-89efc0abe5cb",
   "metadata": {},
   "outputs": [
    {
     "name": "stdout",
     "output_type": "stream",
     "text": [
      "[[ 8  9 10]\n",
      " [13 14 15]\n",
      " [18 19 20]]\n"
     ]
    }
   ],
   "source": [
    "z = x[1:4, 2:5]\n",
    "print(z)"
   ]
  },
  {
   "cell_type": "code",
   "execution_count": 5,
   "id": "21538103-5da2-4dba-b71c-e00366645f54",
   "metadata": {},
   "outputs": [
    {
     "name": "stdout",
     "output_type": "stream",
     "text": [
      "[[ 3  4  5]\n",
      " [ 8  9 10]\n",
      " [13 14 15]]\n"
     ]
    }
   ],
   "source": [
    "z = x[:3, 2:]\n",
    "print(z)"
   ]
  },
  {
   "cell_type": "code",
   "execution_count": 6,
   "id": "b4a10f53-4ec7-49b0-aa1e-e620e3a6e191",
   "metadata": {},
   "outputs": [
    {
     "name": "stdout",
     "output_type": "stream",
     "text": [
      "[[ 3  4  5]\n",
      " [ 8  9 10]\n",
      " [13 14 15]]\n"
     ]
    }
   ],
   "source": [
    "z = x[:3, 2:]\n",
    "print(z)"
   ]
  },
  {
   "cell_type": "code",
   "execution_count": 7,
   "id": "986abefc-4eb2-4b0c-9c62-3988dd984633",
   "metadata": {},
   "outputs": [
    {
     "name": "stdout",
     "output_type": "stream",
     "text": [
      "[[ 3]\n",
      " [ 8]\n",
      " [13]\n",
      " [18]]\n"
     ]
    }
   ],
   "source": [
    "z = x[:, 2:3]\n",
    "print(z)"
   ]
  },
  {
   "cell_type": "code",
   "execution_count": 9,
   "id": "19933480-d830-4c97-9b73-5418e370a5a3",
   "metadata": {},
   "outputs": [
    {
     "name": "stdout",
     "output_type": "stream",
     "text": [
      "[[ 1  2  3  4  5]\n",
      " [ 6  7  8  9 10]\n",
      " [11 12 13 14 15]\n",
      " [16 17 18 19 20]]\n"
     ]
    }
   ],
   "source": [
    "print(x)"
   ]
  },
  {
   "cell_type": "code",
   "execution_count": 10,
   "id": "0419e480-e10b-475e-9984-65ca0c978f32",
   "metadata": {},
   "outputs": [
    {
     "ename": "IndexError",
     "evalue": "index 2 is out of bounds for axis 1 with size 1",
     "output_type": "error",
     "traceback": [
      "\u001b[0;31m---------------------------------------------------------------------------\u001b[0m",
      "\u001b[0;31mIndexError\u001b[0m                                Traceback (most recent call last)",
      "Cell \u001b[0;32mIn[10], line 1\u001b[0m\n\u001b[0;32m----> 1\u001b[0m \u001b[43mz\u001b[49m\u001b[43m[\u001b[49m\u001b[38;5;241;43m2\u001b[39;49m\u001b[43m,\u001b[49m\u001b[43m \u001b[49m\u001b[38;5;241;43m2\u001b[39;49m\u001b[43m]\u001b[49m \u001b[38;5;241m=\u001b[39m \u001b[38;5;241m555\u001b[39m\n\u001b[1;32m      2\u001b[0m \u001b[38;5;28mprint\u001b[39m(z)\n",
      "\u001b[0;31mIndexError\u001b[0m: index 2 is out of bounds for axis 1 with size 1"
     ]
    }
   ],
   "source": [
    "z[2, 2] = 555\n",
    "print(z)"
   ]
  },
  {
   "cell_type": "code",
   "execution_count": 16,
   "id": "faaf11d5-0063-48e1-b620-950665aea719",
   "metadata": {},
   "outputs": [
    {
     "name": "stdout",
     "output_type": "stream",
     "text": [
      "[[ 1  2  3  4  5]\n",
      " [ 6  7  8  9 10]\n",
      " [11 12 13 14 15]\n",
      " [16 17 18 19 20]]\n"
     ]
    }
   ],
   "source": [
    "b = np.arange(1, 21).reshape(4, 5)\n",
    "print(b)"
   ]
  },
  {
   "cell_type": "code",
   "execution_count": 17,
   "id": "0b96fcd3-4b25-42be-b1b7-63cc06a82f25",
   "metadata": {},
   "outputs": [
    {
     "name": "stdout",
     "output_type": "stream",
     "text": [
      "[1 3]\n"
     ]
    }
   ],
   "source": [
    "indices = np.array([1, 3])\n",
    "print(indices)"
   ]
  },
  {
   "cell_type": "code",
   "execution_count": 18,
   "id": "8ea3c9de-8ae4-4d1c-b689-70a4d9eba2d0",
   "metadata": {},
   "outputs": [],
   "source": [
    "y = x[indices, :]"
   ]
  },
  {
   "cell_type": "code",
   "execution_count": 20,
   "id": "cf468417-97e6-4e1c-b017-85f976913b63",
   "metadata": {},
   "outputs": [
    {
     "name": "stdout",
     "output_type": "stream",
     "text": [
      "[[ 6  7  8  9 10]\n",
      " [16 17 18 19 20]]\n"
     ]
    }
   ],
   "source": [
    "print(y)"
   ]
  },
  {
   "cell_type": "code",
   "execution_count": 21,
   "id": "5331b88b-f2bc-44ce-bf8f-74b60ce6fe02",
   "metadata": {},
   "outputs": [
    {
     "name": "stdout",
     "output_type": "stream",
     "text": [
      "[ 2  8 14 20]\n"
     ]
    }
   ],
   "source": [
    "z = np.diag(x, k=1)\n",
    "print(z)"
   ]
  },
  {
   "cell_type": "code",
   "execution_count": 22,
   "id": "307c0c19-b63f-442f-a73d-c5115df31826",
   "metadata": {},
   "outputs": [
    {
     "name": "stdout",
     "output_type": "stream",
     "text": [
      "[ 6 12 18]\n"
     ]
    }
   ],
   "source": [
    "z = np.diag(x, k=-1)\n",
    "print(z)"
   ]
  },
  {
   "cell_type": "code",
   "execution_count": 23,
   "id": "82113ca3-5770-4b83-b85a-b807d1506643",
   "metadata": {},
   "outputs": [
    {
     "name": "stdout",
     "output_type": "stream",
     "text": [
      "[[1 2 3]\n",
      " [5 2 8]\n",
      " [1 2 3]]\n"
     ]
    }
   ],
   "source": [
    "x = np.array([[1, 2, 3], [5, 2, 8], [1, 2, 3]])\n",
    "print(x)"
   ]
  },
  {
   "cell_type": "code",
   "execution_count": 24,
   "id": "862fcd36-b00b-4217-87d3-0bd8a130f12a",
   "metadata": {},
   "outputs": [
    {
     "name": "stdout",
     "output_type": "stream",
     "text": [
      "[1 2 3 5 8]\n"
     ]
    }
   ],
   "source": [
    "print(np.unique(x))"
   ]
  },
  {
   "cell_type": "markdown",
   "id": "c044827d-5a89-4285-83dd-08d108224025",
   "metadata": {},
   "source": [
    "### Boolean Indexing, Set Operations, and Sorting"
   ]
  },
  {
   "cell_type": "code",
   "execution_count": 25,
   "id": "9127a038-c147-486d-8a33-712695c509ff",
   "metadata": {},
   "outputs": [
    {
     "name": "stdout",
     "output_type": "stream",
     "text": [
      "[[ 0  1  2  3  4]\n",
      " [ 5  6  7  8  9]\n",
      " [10 11 12 13 14]\n",
      " [15 16 17 18 19]\n",
      " [20 21 22 23 24]]\n"
     ]
    }
   ],
   "source": [
    "x = np.arange(25).reshape(5, 5)\n",
    "print(x)"
   ]
  },
  {
   "cell_type": "code",
   "execution_count": 26,
   "id": "978f2b86-2636-4780-ad2d-a64856dfae63",
   "metadata": {},
   "outputs": [
    {
     "name": "stdout",
     "output_type": "stream",
     "text": [
      "[11 12 13 14 15 16 17 18 19 20 21 22 23 24]\n"
     ]
    }
   ],
   "source": [
    "print(x[x > 10])"
   ]
  },
  {
   "cell_type": "code",
   "execution_count": 27,
   "id": "d88c0bec-3ac6-463b-96e2-9298cba2f7b3",
   "metadata": {},
   "outputs": [
    {
     "name": "stdout",
     "output_type": "stream",
     "text": [
      "[0 1 2 3 4 5 6 7]\n",
      "[[ 0  1  2  3  4]\n",
      " [ 5  6  7  8  9]\n",
      " [10 11 12 13 14]\n",
      " [15 16 17 18 19]\n",
      " [20 21 22 23 24]]\n"
     ]
    }
   ],
   "source": [
    "print(x[x <= 7])\n",
    "print(x)"
   ]
  },
  {
   "cell_type": "code",
   "execution_count": 40,
   "id": "a1a7f861-1f3c-4c60-be2a-53a6bd02b794",
   "metadata": {},
   "outputs": [],
   "source": [
    "x = np.array([1, 2, 3, 4, 5])\n",
    "y = np.array([6, 7, 2, 8, 4])"
   ]
  },
  {
   "cell_type": "code",
   "execution_count": 41,
   "id": "5d623032-6fff-4cde-863f-481c153c42fa",
   "metadata": {},
   "outputs": [
    {
     "name": "stdout",
     "output_type": "stream",
     "text": [
      "[2 4]\n",
      "[1 3 5]\n",
      "[1 2 3 4 5 6 7 8]\n"
     ]
    }
   ],
   "source": [
    "print(np.intersect1d(x,y))\n",
    "print(np.setdiff1d(x, y))\n",
    "print(np.union1d(x, y))\n"
   ]
  },
  {
   "cell_type": "code",
   "execution_count": 42,
   "id": "677680bc-3a89-494f-b371-1d51aeb2ce6d",
   "metadata": {},
   "outputs": [
    {
     "name": "stdout",
     "output_type": "stream",
     "text": [
      "[ 6  6  8  7  6  4  7  5 10  4]\n"
     ]
    }
   ],
   "source": [
    "x = np.random.randint(1, 11, size=(10,))\n",
    "print(x)"
   ]
  },
  {
   "cell_type": "code",
   "execution_count": 43,
   "id": "3aa97d92-5b8f-40c3-96c0-59a7e96de521",
   "metadata": {},
   "outputs": [
    {
     "name": "stdout",
     "output_type": "stream",
     "text": [
      "[ 4  4  5  6  6  6  7  7  8 10]\n"
     ]
    }
   ],
   "source": [
    "x.sort()\n",
    "print(x)"
   ]
  },
  {
   "cell_type": "code",
   "execution_count": 44,
   "id": "06817b69-f65a-4a8d-90fb-79ce5034c223",
   "metadata": {},
   "outputs": [
    {
     "name": "stdout",
     "output_type": "stream",
     "text": [
      "[ 4  4  5  6  6  6  7  7  8 10]\n",
      "[ 4  4  5  6  6  6  7  7  8 10]\n"
     ]
    }
   ],
   "source": [
    "print(np.sort(x))\n",
    "print(x)"
   ]
  },
  {
   "cell_type": "code",
   "execution_count": 45,
   "id": "357ef3ed-4dfe-4b00-8376-5c9e99d81ea8",
   "metadata": {},
   "outputs": [
    {
     "name": "stdout",
     "output_type": "stream",
     "text": [
      "[ 4  5  6  7  8 10]\n",
      "[ 4  4  5  6  6  6  7  7  8 10]\n"
     ]
    }
   ],
   "source": [
    "print(np.sort(np.unique(x)))\n",
    "print(x)"
   ]
  },
  {
   "cell_type": "code",
   "execution_count": 49,
   "id": "9f32cb48-b4b0-4629-8386-4f3538b756a3",
   "metadata": {},
   "outputs": [
    {
     "name": "stdout",
     "output_type": "stream",
     "text": [
      "\n",
      "Original X = \n",
      " [[8 5 6 6 4]\n",
      " [1 7 5 4 1]\n",
      " [2 9 2 5 3]\n",
      " [8 1 7 6 4]\n",
      " [6 5 1 6 7]]\n",
      "\n",
      "\n",
      "X with sorted columns :\n",
      " [[1 1 1 4 1]\n",
      " [2 5 2 5 3]\n",
      " [6 5 5 6 4]\n",
      " [8 7 6 6 4]\n",
      " [8 9 7 6 7]]\n",
      "\n",
      "X with sorted rows :\n",
      " [[4 5 6 6 8]\n",
      " [1 1 4 5 7]\n",
      " [2 2 3 5 9]\n",
      " [1 4 6 7 8]\n",
      " [1 5 6 6 7]]\n"
     ]
    }
   ],
   "source": [
    "x = np.random.randint(1, 11, size=(5,5))\n",
    "print()\n",
    "print('Original X = \\n', x)\n",
    "print()\n",
    "\n",
    "print()\n",
    "print('X with sorted columns :\\n', np.sort(x, axis = 0))\n",
    "\n",
    "print()\n",
    "print('X with sorted rows :\\n', np.sort(x, axis = 1))"
   ]
  },
  {
   "cell_type": "markdown",
   "id": "4d43021e-14e3-419a-a360-a9dd04c6f27c",
   "metadata": {},
   "source": [
    "### Create a 5 x 5 ndarray X with consecutive integers from 1 to 25 (inclusive). Afterwards use Boolean indexing to pick out only the odd numbers in the array and assign the result to Y."
   ]
  },
  {
   "cell_type": "code",
   "execution_count": 52,
   "id": "807397b3-0bf1-4c18-9386-b7ec455b2906",
   "metadata": {},
   "outputs": [
    {
     "name": "stdout",
     "output_type": "stream",
     "text": [
      "Nice work! You can view my solution below\n"
     ]
    }
   ],
   "source": [
    "import numpy as np\n",
    "\n",
    "# TODO: replace None with appropriate code\n",
    "# Create a 5 x 5 ndarray with consecutive integers from 1 to 25 (inclusive).\n",
    "X = np.arange(1, 26).reshape(5, 5)\n",
    "\n",
    "# TODO: replace None with appropriate code\n",
    "# Use Boolean indexing to pick out only the odd numbers in the array\n",
    "Y = X[X % 2 != 0]\n",
    "\n",
    "### Notebook grading\n",
    "X_solution = np.arange(1,26).reshape(5,5)\n",
    "Y_solution= X_solution[X_solution % 2 != 0]\n",
    "\n",
    "if type(X) != np.ndarray or type(Y) != np.ndarray:\n",
    "    print(\"`X` and `Y` should both be ndarrays\")\n",
    "elif np.array_equal(X, X_solution) and np.array_equal(Y, Y_solution):\n",
    "    print(\"Nice work! You can view my solution below\")\n",
    "elif X.shape != X_solution.shape:\n",
    "    print(\"Your answer for `X` has a shape of {} but it should be 5 x 5\".format(X.shape))\n",
    "elif len(Y) != len(Y_solution):\n",
    "    print(\"Your answer for `Y` has a length of {} but it should have a length of 13\".format(len(Y)))\n",
    "else:\n",
    "    print(\"Your answers have the right shape but incorrect values\")"
   ]
  },
  {
   "cell_type": "markdown",
   "id": "0f05f2c5-466e-4152-8680-0ad4d8cfbb60",
   "metadata": {},
   "source": [
    "## Arithmetic operations and Broadcasting"
   ]
  },
  {
   "cell_type": "code",
   "execution_count": 53,
   "id": "c2dc6973-6390-499b-892f-0f94ce59511b",
   "metadata": {},
   "outputs": [
    {
     "name": "stdout",
     "output_type": "stream",
     "text": [
      "[1 2 3 4]\n",
      "[5 6 7 8]\n"
     ]
    }
   ],
   "source": [
    "x = np.array([1, 2, 3, 4])\n",
    "y = np.array([5, 6, 7, 8])\n",
    "print(x)\n",
    "print(y)"
   ]
  },
  {
   "cell_type": "code",
   "execution_count": 54,
   "id": "79919ced-3707-42ab-a084-88e7fd40524e",
   "metadata": {},
   "outputs": [
    {
     "name": "stdout",
     "output_type": "stream",
     "text": [
      "[ 6  8 10 12]\n",
      "[ 6  8 10 12]\n"
     ]
    }
   ],
   "source": [
    "print(x + y)\n",
    "print(np.add(x, y))"
   ]
  },
  {
   "cell_type": "code",
   "execution_count": 57,
   "id": "c29aa8bd-f1a0-4b71-b951-1d1ffacd5fae",
   "metadata": {},
   "outputs": [
    {
     "name": "stdout",
     "output_type": "stream",
     "text": [
      "[-4 -4 -4 -4]\n",
      "[ 5 12 21 32]\n",
      "[0.2        0.33333333 0.42857143 0.5       ]\n"
     ]
    }
   ],
   "source": [
    "print(x - y)\n",
    "print(x * y)\n",
    "print(x / y)"
   ]
  },
  {
   "cell_type": "code",
   "execution_count": 58,
   "id": "a1c9a0e7-fe0f-4bdb-afc7-8b75c1511ddc",
   "metadata": {},
   "outputs": [
    {
     "name": "stdout",
     "output_type": "stream",
     "text": [
      "[1 2 3 4]\n"
     ]
    }
   ],
   "source": [
    "print(x)"
   ]
  },
  {
   "cell_type": "code",
   "execution_count": 60,
   "id": "2a5ce3cc-c1c2-477b-884f-b177d506a2c4",
   "metadata": {},
   "outputs": [
    {
     "name": "stdout",
     "output_type": "stream",
     "text": [
      "[ 2.71828183  7.3890561  20.08553692 54.59815003]\n"
     ]
    }
   ],
   "source": [
    "print(np.exp(x))"
   ]
  },
  {
   "cell_type": "code",
   "execution_count": 61,
   "id": "80720e5a-e637-4920-984d-6d18f0a1bd1f",
   "metadata": {},
   "outputs": [],
   "source": [
    "# you can calculate for mean, median,std dev, minimum, maximum, etc."
   ]
  },
  {
   "cell_type": "code",
   "execution_count": 62,
   "id": "7c71ba32-1b34-4a00-8f0e-ea7ed8a65b58",
   "metadata": {},
   "outputs": [
    {
     "name": "stdout",
     "output_type": "stream",
     "text": [
      "\n",
      "X = \n",
      " [[1 2]\n",
      " [3 4]]\n",
      "\n",
      "Average of all elements in X: 2.5\n",
      "Average of all elements in the columns of X: [2. 3.]\n",
      "Average of all elements in the rows of X: [1.5 3.5]\n",
      "\n",
      "Sum of all elements in X: 10\n",
      "Sum of all elements in the columns of X: [4 6]\n",
      "Sum of all elements in the rows of X: [3 7]\n",
      "\n",
      "Standard Deviation of all elements in X: 1.118033988749895\n",
      "Standard Deviation of all elements in the columns of X: [1. 1.]\n",
      "Standard Deviation of all elements in the rows of X: [0.5 0.5]\n",
      "\n",
      "Median of all elements in X: 2.5\n",
      "Median of all elements in the columns of X: [2. 3.]\n",
      "Median of all elements in the rows of X: [1.5 3.5]\n",
      "\n",
      "Maximum value of all elements in X: 4\n",
      "Maximum value of all elements in the columns of X: [3 4]\n",
      "Maximum value of all elements in the rows of X: [2 4]\n",
      "\n",
      "Minimum value of all elements in X: 1\n",
      "Minimum value of all elements in the columns of X: [1 2]\n",
      "Minimum value of all elements in the rows of X: [1 3]\n"
     ]
    }
   ],
   "source": [
    "# We create a 2 x 2 ndarray\n",
    "X = np.array([[1,2], [3,4]])\n",
    "\n",
    "# We print x\n",
    "print()\n",
    "print('X = \\n', X)\n",
    "print()\n",
    "\n",
    "print('Average of all elements in X:', X.mean())\n",
    "print('Average of all elements in the columns of X:', X.mean(axis=0))\n",
    "print('Average of all elements in the rows of X:', X.mean(axis=1))\n",
    "print()\n",
    "print('Sum of all elements in X:', X.sum())\n",
    "print('Sum of all elements in the columns of X:', X.sum(axis=0))\n",
    "print('Sum of all elements in the rows of X:', X.sum(axis=1))\n",
    "print()\n",
    "print('Standard Deviation of all elements in X:', X.std())\n",
    "print('Standard Deviation of all elements in the columns of X:', X.std(axis=0))\n",
    "print('Standard Deviation of all elements in the rows of X:', X.std(axis=1))\n",
    "print()\n",
    "print('Median of all elements in X:', np.median(X))\n",
    "print('Median of all elements in the columns of X:', np.median(X,axis=0))\n",
    "print('Median of all elements in the rows of X:', np.median(X,axis=1))\n",
    "print()\n",
    "print('Maximum value of all elements in X:', X.max())\n",
    "print('Maximum value of all elements in the columns of X:', X.max(axis=0))\n",
    "print('Maximum value of all elements in the rows of X:', X.max(axis=1))\n",
    "print()\n",
    "print('Minimum value of all elements in X:', X.min())\n",
    "print('Minimum value of all elements in the columns of X:', X.min(axis=0))\n",
    "print('Minimum value of all elements in the rows of X:', X.min(axis=1))"
   ]
  },
  {
   "cell_type": "markdown",
   "id": "08a3b8b6-6bf4-4101-b32b-667db2af7bf4",
   "metadata": {},
   "source": [
    "## nd-arrays broadcasting"
   ]
  },
  {
   "cell_type": "code",
   "execution_count": 66,
   "id": "0358a803-e17c-43a8-80a7-993f260b8f2a",
   "metadata": {},
   "outputs": [
    {
     "name": "stdout",
     "output_type": "stream",
     "text": [
      "[[1. 2. 3. 4.]\n",
      " [1. 2. 3. 4.]\n",
      " [1. 2. 3. 4.]\n",
      " [1. 2. 3. 4.]]\n",
      "Nice work! You can view my solution below\n"
     ]
    }
   ],
   "source": [
    "import numpy as np\n",
    "\n",
    "# Replace None with appropriate code\n",
    "X = np.ones((4,4)) * np.arange(1,5)\n",
    "print(X)\n",
    "### Notebook grading\n",
    "solution = np.ones((4,4)) * np.arange(1,5)\n",
    "if type(X) != np.ndarray:\n",
    "    print(\"`X` should be an ndarray\")\n",
    "elif np.array_equal(X, solution):\n",
    "    print(\"Nice work! You can view my solution below\")\n",
    "elif X.shape != solution.shape:\n",
    "    print(\"Your answer for `X` has a shape of {} but it should be 4 x 4\".format(X.shape))\n",
    "else:\n",
    "    print(\"Your answer for `X` has the right shape but incorrect values\")"
   ]
  },
  {
   "cell_type": "code",
   "execution_count": null,
   "id": "a0afc4d5-f791-4fe4-9a84-e57628d0e413",
   "metadata": {},
   "outputs": [],
   "source": []
  }
 ],
 "metadata": {
  "kernelspec": {
   "display_name": "Python 3 (ipykernel)",
   "language": "python",
   "name": "python3"
  },
  "language_info": {
   "codemirror_mode": {
    "name": "ipython",
    "version": 3
   },
   "file_extension": ".py",
   "mimetype": "text/x-python",
   "name": "python",
   "nbconvert_exporter": "python",
   "pygments_lexer": "ipython3",
   "version": "3.13.1"
  }
 },
 "nbformat": 4,
 "nbformat_minor": 5
}
