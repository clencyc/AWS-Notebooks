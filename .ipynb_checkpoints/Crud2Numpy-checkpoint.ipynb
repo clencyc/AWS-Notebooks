{
 "cells": [
  {
   "cell_type": "code",
   "execution_count": 1,
   "id": "1a81a5c6-2ab2-476c-9054-e213afd703ee",
   "metadata": {},
   "outputs": [
    {
     "name": "stdout",
     "output_type": "stream",
     "text": [
      "Requirement already satisfied: numpy in ./numpyenv/lib/python3.13/site-packages (2.2.1)\n"
     ]
    }
   ],
   "source": [
    "!pip install numpy"
   ]
  },
  {
   "cell_type": "code",
   "execution_count": 2,
   "id": "11d4ae22-15e3-4ccd-b3bc-f7dea3ccb81a",
   "metadata": {},
   "outputs": [],
   "source": [
    "import numpy as np"
   ]
  },
  {
   "cell_type": "markdown",
   "id": "19c967db-031d-4a6c-a354-ef44772a8d58",
   "metadata": {},
   "source": [
    "## 1. Create"
   ]
  },
  {
   "cell_type": "code",
   "execution_count": null,
   "id": "7931687e-c544-4d7d-83c6-cf3e25d8d699",
   "metadata": {},
   "outputs": [],
   "source": [
    "[[1,2,3,4], [1,2,2,2]]"
   ]
  },
  {
   "cell_type": "code",
   "execution_count": 9,
   "id": "438c8968-9f54-4405-8de2-1031f67f97e9",
   "metadata": {},
   "outputs": [],
   "source": [
    "data = np.random.rand(2,3,4)\n",
    "zeroes = np.zeros((2,2,2))\n",
    "full = np.full((2,2,2), 7)\n",
    "ones = np.ones((2,2,2))\n"
   ]
  },
  {
   "cell_type": "code",
   "execution_count": 10,
   "id": "749c2fc5-8051-475b-800d-455d1bdb4aef",
   "metadata": {},
   "outputs": [
    {
     "data": {
      "text/plain": [
       "array([[[0.06167603, 0.54381187, 0.80698401, 0.73279922],\n",
       "        [0.52200979, 0.76367442, 0.52378554, 0.65596538],\n",
       "        [0.24863424, 0.78640785, 0.11004319, 0.36176569]],\n",
       "\n",
       "       [[0.77794021, 0.90003727, 0.31470254, 0.79972662],\n",
       "        [0.83841376, 0.21753593, 0.44292149, 0.38373475],\n",
       "        [0.32514136, 0.26111019, 0.36785891, 0.50813218]]])"
      ]
     },
     "execution_count": 10,
     "metadata": {},
     "output_type": "execute_result"
    }
   ],
   "source": [
    "data"
   ]
  },
  {
   "cell_type": "code",
   "execution_count": 11,
   "id": "8e16058b-7698-4586-87ca-f7bbbf22deb5",
   "metadata": {},
   "outputs": [
    {
     "data": {
      "text/plain": [
       "array([[[0., 0.],\n",
       "        [0., 0.]],\n",
       "\n",
       "       [[0., 0.],\n",
       "        [0., 0.]]])"
      ]
     },
     "execution_count": 11,
     "metadata": {},
     "output_type": "execute_result"
    }
   ],
   "source": [
    "zeroes"
   ]
  },
  {
   "cell_type": "code",
   "execution_count": 12,
   "id": "0e931b19-230c-4813-9576-ea88a7243b83",
   "metadata": {},
   "outputs": [
    {
     "data": {
      "text/plain": [
       "array([[[7, 7],\n",
       "        [7, 7]],\n",
       "\n",
       "       [[7, 7],\n",
       "        [7, 7]]])"
      ]
     },
     "execution_count": 12,
     "metadata": {},
     "output_type": "execute_result"
    }
   ],
   "source": [
    "full"
   ]
  },
  {
   "cell_type": "code",
   "execution_count": 13,
   "id": "3e7146a6-0d76-47c8-87e5-458886d1fea3",
   "metadata": {},
   "outputs": [
    {
     "data": {
      "text/plain": [
       "array([[[1., 1.],\n",
       "        [1., 1.]],\n",
       "\n",
       "       [[1., 1.],\n",
       "        [1., 1.]]])"
      ]
     },
     "execution_count": 13,
     "metadata": {},
     "output_type": "execute_result"
    }
   ],
   "source": [
    "ones"
   ]
  },
  {
   "cell_type": "code",
   "execution_count": 15,
   "id": "1fa0f9b8-f2fb-48c1-b6ab-1b3eb11b7cba",
   "metadata": {},
   "outputs": [],
   "source": [
    "arr = np.array([[1,2,3,4], [1,2,3,4]])"
   ]
  },
  {
   "cell_type": "code",
   "execution_count": 16,
   "id": "2a0afcb3-915c-4a38-8759-52f319cbe8f3",
   "metadata": {},
   "outputs": [
    {
     "data": {
      "text/plain": [
       "numpy.ndarray"
      ]
     },
     "execution_count": 16,
     "metadata": {},
     "output_type": "execute_result"
    }
   ],
   "source": [
    "type(arr)"
   ]
  },
  {
   "cell_type": "markdown",
   "id": "1caac963-8f6f-4456-a9f6-4ee1611b74f2",
   "metadata": {},
   "source": [
    "## 2. Read"
   ]
  },
  {
   "cell_type": "code",
   "execution_count": 20,
   "id": "fa03de3d-0f57-443f-92af-6957f9c089a8",
   "metadata": {},
   "outputs": [],
   "source": [
    "shape = data.shape\n",
    "size = data.size\n",
    "types = data.dtype"
   ]
  },
  {
   "cell_type": "code",
   "execution_count": 21,
   "id": "3b540ed0-8b0c-40fa-a997-9272fcd2a5a6",
   "metadata": {},
   "outputs": [
    {
     "data": {
      "text/plain": [
       "(2, 3, 4)"
      ]
     },
     "execution_count": 21,
     "metadata": {},
     "output_type": "execute_result"
    }
   ],
   "source": [
    "shape"
   ]
  },
  {
   "cell_type": "code",
   "execution_count": 22,
   "id": "6dfe8764-d403-4658-af19-7ac6193efe25",
   "metadata": {},
   "outputs": [
    {
     "data": {
      "text/plain": [
       "24"
      ]
     },
     "execution_count": 22,
     "metadata": {},
     "output_type": "execute_result"
    }
   ],
   "source": [
    "size"
   ]
  },
  {
   "cell_type": "code",
   "execution_count": 23,
   "id": "b59d4fbf-9e23-42ce-b2f7-bd4ec5843072",
   "metadata": {},
   "outputs": [
    {
     "data": {
      "text/plain": [
       "dtype('float64')"
      ]
     },
     "execution_count": 23,
     "metadata": {},
     "output_type": "execute_result"
    }
   ],
   "source": [
    "types"
   ]
  },
  {
   "cell_type": "code",
   "execution_count": 26,
   "id": "950853d1-ce93-4351-ad74-19760bdbe58d",
   "metadata": {},
   "outputs": [],
   "source": [
    "#slicing\n",
    "arr = data[0]\n",
    "slicer = data[0][0:2]\n",
    "reverse = data[-1]\n",
    "singlevel = data[0][0][0]"
   ]
  },
  {
   "cell_type": "code",
   "execution_count": 28,
   "id": "c49ba66c-bbf1-45e8-a668-aabcd52386b4",
   "metadata": {},
   "outputs": [
    {
     "data": {
      "text/plain": [
       "array([[0.06167603, 0.54381187, 0.80698401, 0.73279922],\n",
       "       [0.52200979, 0.76367442, 0.52378554, 0.65596538]])"
      ]
     },
     "execution_count": 28,
     "metadata": {},
     "output_type": "execute_result"
    }
   ],
   "source": [
    "slicer"
   ]
  },
  {
   "cell_type": "code",
   "execution_count": 29,
   "id": "50c17bb3-a83b-431c-87b1-86c02c5e52e9",
   "metadata": {},
   "outputs": [
    {
     "data": {
      "text/plain": [
       "array([[0.77794021, 0.90003727, 0.31470254, 0.79972662],\n",
       "       [0.83841376, 0.21753593, 0.44292149, 0.38373475],\n",
       "       [0.32514136, 0.26111019, 0.36785891, 0.50813218]])"
      ]
     },
     "execution_count": 29,
     "metadata": {},
     "output_type": "execute_result"
    }
   ],
   "source": [
    "reverse"
   ]
  },
  {
   "cell_type": "code",
   "execution_count": 30,
   "id": "562e2d3d-3551-47de-8594-b09b23fe4d3f",
   "metadata": {},
   "outputs": [
    {
     "data": {
      "text/plain": [
       "np.float64(0.061676026073710366)"
      ]
     },
     "execution_count": 30,
     "metadata": {},
     "output_type": "execute_result"
    }
   ],
   "source": [
    "singlevel"
   ]
  },
  {
   "cell_type": "markdown",
   "id": "cabc44fc-52d6-4458-a820-cd3feeb8eeb1",
   "metadata": {},
   "source": [
    "## 3. Update"
   ]
  },
  {
   "cell_type": "code",
   "execution_count": 31,
   "id": "19c73a4d-8007-4f14-a9dd-c29fa1e50eba",
   "metadata": {},
   "outputs": [
    {
     "data": {
      "text/plain": [
       "array([[[0.06167603, 0.54381187, 0.80698401, 0.73279922],\n",
       "        [0.52200979, 0.76367442, 0.52378554, 0.65596538],\n",
       "        [0.24863424, 0.78640785, 0.11004319, 0.36176569]],\n",
       "\n",
       "       [[0.77794021, 0.90003727, 0.31470254, 0.79972662],\n",
       "        [0.83841376, 0.21753593, 0.44292149, 0.38373475],\n",
       "        [0.32514136, 0.26111019, 0.36785891, 0.50813218]]])"
      ]
     },
     "execution_count": 31,
     "metadata": {},
     "output_type": "execute_result"
    }
   ],
   "source": [
    "data"
   ]
  },
  {
   "cell_type": "code",
   "execution_count": 32,
   "id": "e996411f-37ad-4d9f-b941-4f3f5624c40e",
   "metadata": {},
   "outputs": [],
   "source": [
    "list1 = np.random.rand(10)\n",
    "list2 = np.random.rand(10)"
   ]
  },
  {
   "cell_type": "code",
   "execution_count": 33,
   "id": "baa3e7a4-352c-43af-b25a-7e78539082de",
   "metadata": {},
   "outputs": [
    {
     "data": {
      "text/plain": [
       "array([0.7216602 , 0.04886639, 0.59067592, 0.30411065, 0.62978642,\n",
       "       0.48516572, 0.78724087, 0.5264932 , 0.39067921, 0.89878301])"
      ]
     },
     "execution_count": 33,
     "metadata": {},
     "output_type": "execute_result"
    }
   ],
   "source": [
    "list1"
   ]
  },
  {
   "cell_type": "code",
   "execution_count": 34,
   "id": "b45b040b-122d-4db2-b16a-893831af270c",
   "metadata": {},
   "outputs": [],
   "source": [
    "add = np.add(list1, list2)\n",
    "sub = np.subtract(list1, list2)\n",
    "div = np.divide(list1, list2)\n",
    "mult = np.multiply(list1, list2)\n",
    "dot = np.dot(list1, list2)\n"
   ]
  },
  {
   "cell_type": "code",
   "execution_count": 37,
   "id": "12354b51-6fcf-409c-8188-c83c78b56274",
   "metadata": {},
   "outputs": [
    {
     "data": {
      "text/plain": [
       "array([0.0789801 , 0.03076858, 0.16552666, 0.08457479, 0.52252336,\n",
       "       0.39659654, 0.2367443 , 0.27569535, 0.24758661, 0.42914452])"
      ]
     },
     "execution_count": 37,
     "metadata": {},
     "output_type": "execute_result"
    }
   ],
   "source": [
    "mult"
   ]
  },
  {
   "cell_type": "code",
   "execution_count": 41,
   "id": "84d4c4f1-d2d3-48ff-97c5-59ca09063e92",
   "metadata": {},
   "outputs": [],
   "source": [
    "# statistical functions\n",
    "sqrt = np.sqrt(25)\n",
    "ab = np.abs(-2)\n",
    "power = np.power(2, 3)\n",
    "log = np.log(25)\n",
    "exp = np.exp([2, 3])\n",
    "mins = np.min(list1)\n",
    "maxs = np.max(list2)"
   ]
  },
  {
   "cell_type": "code",
   "execution_count": 42,
   "id": "44c6d6dc-38c6-470c-a07a-93f2d416cc5c",
   "metadata": {},
   "outputs": [
    {
     "data": {
      "text/plain": [
       "np.float64(0.8296834390728964)"
      ]
     },
     "execution_count": 42,
     "metadata": {},
     "output_type": "execute_result"
    }
   ],
   "source": [
    "maxs"
   ]
  },
  {
   "cell_type": "code",
   "execution_count": 43,
   "id": "2dc0fcbe-3e56-4d4a-a4a2-74cef1c42aa6",
   "metadata": {},
   "outputs": [
    {
     "data": {
      "text/plain": [
       "array([[[0.06167603, 0.54381187, 0.80698401, 0.73279922],\n",
       "        [0.52200979, 0.76367442, 0.52378554, 0.65596538],\n",
       "        [0.24863424, 0.78640785, 0.11004319, 0.36176569]],\n",
       "\n",
       "       [[0.77794021, 0.90003727, 0.31470254, 0.79972662],\n",
       "        [0.83841376, 0.21753593, 0.44292149, 0.38373475],\n",
       "        [0.32514136, 0.26111019, 0.36785891, 0.50813218]]])"
      ]
     },
     "execution_count": 43,
     "metadata": {},
     "output_type": "execute_result"
    }
   ],
   "source": [
    "data"
   ]
  },
  {
   "cell_type": "code",
   "execution_count": 44,
   "id": "3f321b27-2319-4079-a53f-837dda7627b4",
   "metadata": {},
   "outputs": [],
   "source": [
    "data[0][0][0] = 700"
   ]
  },
  {
   "cell_type": "code",
   "execution_count": 45,
   "id": "906bcb7d-73ca-4f2c-ad4e-074b2c482df2",
   "metadata": {},
   "outputs": [
    {
     "data": {
      "text/plain": [
       "array([[[7.00000000e+02, 5.43811872e-01, 8.06984010e-01, 7.32799222e-01],\n",
       "        [5.22009789e-01, 7.63674421e-01, 5.23785539e-01, 6.55965377e-01],\n",
       "        [2.48634241e-01, 7.86407850e-01, 1.10043189e-01, 3.61765686e-01]],\n",
       "\n",
       "       [[7.77940207e-01, 9.00037273e-01, 3.14702541e-01, 7.99726625e-01],\n",
       "        [8.38413762e-01, 2.17535926e-01, 4.42921494e-01, 3.83734749e-01],\n",
       "        [3.25141362e-01, 2.61110192e-01, 3.67858914e-01, 5.08132182e-01]]])"
      ]
     },
     "execution_count": 45,
     "metadata": {},
     "output_type": "execute_result"
    }
   ],
   "source": [
    "data"
   ]
  },
  {
   "cell_type": "code",
   "execution_count": 46,
   "id": "22de09e4-ba2e-4166-be00-4a1220181536",
   "metadata": {},
   "outputs": [],
   "source": [
    "data.sort()"
   ]
  },
  {
   "cell_type": "code",
   "execution_count": 47,
   "id": "0d744d4d-33c7-4b72-b3d6-daacafab3ac8",
   "metadata": {},
   "outputs": [
    {
     "data": {
      "text/plain": [
       "array([[[5.43811872e-01, 7.32799222e-01, 8.06984010e-01, 7.00000000e+02],\n",
       "        [5.22009789e-01, 5.23785539e-01, 6.55965377e-01, 7.63674421e-01],\n",
       "        [1.10043189e-01, 2.48634241e-01, 3.61765686e-01, 7.86407850e-01]],\n",
       "\n",
       "       [[3.14702541e-01, 7.77940207e-01, 7.99726625e-01, 9.00037273e-01],\n",
       "        [2.17535926e-01, 3.83734749e-01, 4.42921494e-01, 8.38413762e-01],\n",
       "        [2.61110192e-01, 3.25141362e-01, 3.67858914e-01, 5.08132182e-01]]])"
      ]
     },
     "execution_count": 47,
     "metadata": {},
     "output_type": "execute_result"
    }
   ],
   "source": [
    "data"
   ]
  },
  {
   "cell_type": "code",
   "execution_count": 48,
   "id": "1c0a95ec-3644-4b9f-adef-83ee26e5c287",
   "metadata": {},
   "outputs": [
    {
     "name": "stdout",
     "output_type": "stream",
     "text": [
      "(2, 3, 4)\n"
     ]
    }
   ],
   "source": [
    "print(data.shape)"
   ]
  },
  {
   "cell_type": "code",
   "execution_count": 51,
   "id": "e16287e2-aa2d-42dd-9e9c-f32c700743d4",
   "metadata": {},
   "outputs": [
    {
     "data": {
      "text/plain": [
       "(2, 2, 6)"
      ]
     },
     "execution_count": 51,
     "metadata": {},
     "output_type": "execute_result"
    }
   ],
   "source": [
    "data = data.reshape((2,2,-1))\n",
    "data.shape"
   ]
  },
  {
   "cell_type": "code",
   "execution_count": 54,
   "id": "e581a609-c026-4f39-ac7a-de70e53d736a",
   "metadata": {},
   "outputs": [
    {
     "name": "stdout",
     "output_type": "stream",
     "text": [
      "[0. 0. 0. 0. 0. 0. 0. 0.]\n",
      "[0. 0. 0. 0. 0. 0. 0. 0. 3. 4.]\n"
     ]
    }
   ],
   "source": [
    "zeroes = np.zeros((8))\n",
    "print(zeroes)\n",
    "zeroes = np.append(zeroes, [3,4])\n",
    "print(zeroes)"
   ]
  },
  {
   "cell_type": "code",
   "execution_count": 55,
   "id": "79934cdb-2e2d-4392-91bc-1be32015e0ac",
   "metadata": {},
   "outputs": [
    {
     "name": "stdout",
     "output_type": "stream",
     "text": [
      "[0. 0. 1. 0. 0. 0. 0. 0. 0. 3. 4.]\n"
     ]
    }
   ],
   "source": [
    "zeroes = np.insert(zeroes, 2, 1)\n",
    "print(zeroes)"
   ]
  },
  {
   "cell_type": "markdown",
   "id": "d94d7d7e-ef4e-4603-8b14-87fc6818ab22",
   "metadata": {},
   "source": [
    "## 4. Delete"
   ]
  },
  {
   "cell_type": "code",
   "execution_count": 61,
   "id": "74218a9c-ebf2-47bb-9d0c-ec5bb308f327",
   "metadata": {},
   "outputs": [
    {
     "data": {
      "text/plain": [
       "array([[[5.43811872e-01, 7.32799222e-01, 8.06984010e-01, 7.00000000e+02,\n",
       "         5.22009789e-01, 5.23785539e-01],\n",
       "        [6.55965377e-01, 7.63674421e-01, 1.10043189e-01, 2.48634241e-01,\n",
       "         3.61765686e-01, 7.86407850e-01]],\n",
       "\n",
       "       [[3.14702541e-01, 7.77940207e-01, 7.99726625e-01, 9.00037273e-01,\n",
       "         2.17535926e-01, 3.83734749e-01],\n",
       "        [4.42921494e-01, 8.38413762e-01, 2.61110192e-01, 3.25141362e-01,\n",
       "         3.67858914e-01, 5.08132182e-01]]])"
      ]
     },
     "execution_count": 61,
     "metadata": {},
     "output_type": "execute_result"
    }
   ],
   "source": [
    "data"
   ]
  },
  {
   "cell_type": "code",
   "execution_count": 62,
   "id": "8cded0ed-785d-4d07-8430-d0ad269f3113",
   "metadata": {},
   "outputs": [
    {
     "data": {
      "text/plain": [
       "array([[[0.65596538, 0.76367442, 0.11004319, 0.24863424, 0.36176569,\n",
       "         0.78640785]],\n",
       "\n",
       "       [[0.44292149, 0.83841376, 0.26111019, 0.32514136, 0.36785891,\n",
       "         0.50813218]]])"
      ]
     },
     "execution_count": 62,
     "metadata": {},
     "output_type": "execute_result"
    }
   ],
   "source": [
    "np.delete(data, 0, axis=1)"
   ]
  },
  {
   "cell_type": "code",
   "execution_count": 65,
   "id": "bff005f5-b7fb-4c02-a1c5-035cc871ea06",
   "metadata": {},
   "outputs": [],
   "source": [
    "np.save(\"new array\", data)"
   ]
  },
  {
   "cell_type": "code",
   "execution_count": 66,
   "id": "d98019ac-5cd5-4142-882d-926d02b32b02",
   "metadata": {},
   "outputs": [
    {
     "data": {
      "text/plain": [
       "array([[[5.43811872e-01, 7.32799222e-01, 8.06984010e-01, 7.00000000e+02,\n",
       "         5.22009789e-01, 5.23785539e-01],\n",
       "        [6.55965377e-01, 7.63674421e-01, 1.10043189e-01, 2.48634241e-01,\n",
       "         3.61765686e-01, 7.86407850e-01]],\n",
       "\n",
       "       [[3.14702541e-01, 7.77940207e-01, 7.99726625e-01, 9.00037273e-01,\n",
       "         2.17535926e-01, 3.83734749e-01],\n",
       "        [4.42921494e-01, 8.38413762e-01, 2.61110192e-01, 3.25141362e-01,\n",
       "         3.67858914e-01, 5.08132182e-01]]])"
      ]
     },
     "execution_count": 66,
     "metadata": {},
     "output_type": "execute_result"
    }
   ],
   "source": [
    "# to reload the array\n",
    "test = np.load(\"new array.npy\")\n",
    "test"
   ]
  },
  {
   "cell_type": "code",
   "execution_count": null,
   "id": "08212638-fcea-4120-80dd-a0ea69353afd",
   "metadata": {},
   "outputs": [],
   "source": []
  }
 ],
 "metadata": {
  "kernelspec": {
   "display_name": "Python 3 (ipykernel)",
   "language": "python",
   "name": "python3"
  },
  "language_info": {
   "codemirror_mode": {
    "name": "ipython",
    "version": 3
   },
   "file_extension": ".py",
   "mimetype": "text/x-python",
   "name": "python",
   "nbconvert_exporter": "python",
   "pygments_lexer": "ipython3",
   "version": "3.13.1"
  }
 },
 "nbformat": 4,
 "nbformat_minor": 5
}
