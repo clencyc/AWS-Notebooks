{
 "cells": [
  {
   "cell_type": "code",
   "execution_count": 2,
   "id": "de60e2fd-d934-4b77-9a55-ef795d2a1e21",
   "metadata": {},
   "outputs": [
    {
     "name": "stdout",
     "output_type": "stream",
     "text": [
      "Nicely done! You can view my solution on the next page.\n"
     ]
    }
   ],
   "source": [
    "# Write your function here\n",
    "def data_storage_density(data_amount, land_area):\n",
    "    return data_amount / land_area\n",
    "\n",
    "### Notebook grading\n",
    "import types\n",
    "explanation_str = '''Your function produced the wrong result when called like this: {}\\t\n",
    "The expected output is: {}'''\n",
    "if 'data_storage_density' not in locals():\n",
    "    print(\"Your code doesn't define `data_storage_density`. Check your spelling.\")\n",
    "elif not isinstance(data_storage_density, types.FunctionType):\n",
    "    print(\"`data_storage_density` should be a function.\")\n",
    "elif data_storage_density(10, 1) != 10 / 1:\n",
    "    print(explanation_str.format('data_storage_density(10, 1)', 10. / 1))\n",
    "elif data_storage_density(864816, 121.4) != 864816 / 121.4:\n",
    "    print(explanation_str.format('data_storage_density(864816, 121.4)', 864816. / 121.4))\n",
    "elif data_storage_density(1234321, 42) != 1234321 / 42:\n",
    "    print(explanation_str.format('data_storage_density(1234321, 42)', 1234321. / 42))\n",
    "else:\n",
    "    print(\"Nicely done! You can view my solution on the next page.\")"
   ]
  },
  {
   "cell_type": "code",
   "execution_count": null,
   "id": "4c5c6255-5afd-4e60-a00a-808963e815c2",
   "metadata": {},
   "outputs": [],
   "source": [
    "# Write your function here\n",
    "def readable_processing_time(days):\n",
    "    weeks =  days // 7\n",
    "    remainder = days % 7\n",
    "    return \"{} week(s) and {} day(s).\".format(weeks, remainder)\n",
    "    \n",
    "\n",
    "### Notebook grading\n",
    "import random\n",
    "def readable_processing_time_soltn(days):\n",
    "    \"\"\"Print the number of weeks and days in a number of days.\"\"\"\n",
    "    weeks = days // 7\n",
    "    remainder = days % 7\n",
    "    return \"{} week(s) and {} day(s).\".format(weeks, remainder)\n",
    "\n",
    "explanation_str = '''Your function produced the wrong result when called like this: readable_processing_time({}). The expected output is: {}'''\n",
    "\n",
    "test_cases = [1, 6, 7, 9, random.randint(100, 10000)]\n",
    "test_failed = False\n",
    "\n",
    "if 'readable_processing_time' not in locals():\n",
    "    test_failed = True\n",
    "    print(\"Your code doesn't define `readable_processing_time`. Check your spelling.\")\n",
    "elif not isinstance(readable_processing_time, types.FunctionType):\n",
    "    test_failed = True\n",
    "    print(\"`readable_processing_time` should be a function.\")\n",
    "else:\n",
    "    for case in test_cases:\n",
    "        if readable_processing_time(case) != readable_processing_time_soltn(case):\n",
    "            test_failed = True\n",
    "            print(explanation_str.format(case, readable_processing_time_soltn(case)))\n",
    "            break\n",
    "\n",
    "    if not test_failed:\n",
    "        print(\"Nicely done! You can view my solution on the next page.\")"
   ]
  }
 ],
 "metadata": {
  "kernelspec": {
   "display_name": "Python 3 (ipykernel)",
   "language": "python",
   "name": "python3"
  },
  "language_info": {
   "codemirror_mode": {
    "name": "ipython",
    "version": 3
   },
   "file_extension": ".py",
   "mimetype": "text/x-python",
   "name": "python",
   "nbconvert_exporter": "python",
   "pygments_lexer": "ipython3",
   "version": "3.13.1"
  }
 },
 "nbformat": 4,
 "nbformat_minor": 5
}
